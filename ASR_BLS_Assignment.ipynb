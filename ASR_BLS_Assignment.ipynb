{
 "cells": [
  {
   "cell_type": "markdown",
   "metadata": {},
   "source": [
    "##                                      ASSIGNMENT 3"
   ]
  },
  {
   "cell_type": "markdown",
   "metadata": {},
   "source": [
    "## NAME : ARVIND SHANKAR RAMAN\n",
    "## NET ID : AXS170059"
   ]
  },
  {
   "cell_type": "markdown",
   "metadata": {},
   "source": [
    "1.\tGo to https://www.bls.gov/developers/api_python.htm, try to understand the sample code to retrieve BLS data series using API Version 1.\n",
    "\n",
    "You may find the format of SeriesID here https://www.bls.gov/help/hlpforma.htm#CE\n",
    "Based on the SeriesID definitions, retrieve the following data:\n",
    "\n",
    "Seasonally adjusted (Seasonal Adjustment code) Average weekly earnings of all employees (Data type code) of Manufacturing, financial activities and Professional and business services (Super Sector Code) from Year 1980 to 2018 from this section.\n",
    "\n",
    "Examine the trend of earnings using a graph and explain your findings."
   ]
  },
  {
   "cell_type": "code",
   "execution_count": 1,
   "metadata": {},
   "outputs": [],
   "source": [
    "import pandas as pd\n",
    "import numpy as np\n",
    "import matplotlib.pyplot as plt\n",
    "import json\n",
    "from sklearn.tree.tests.test_export import w\n",
    "import requests"
   ]
  },
  {
   "cell_type": "markdown",
   "metadata": {},
   "source": [
    "### There are 2 main parts to the API Version 1.0 code. I use the first part to retrieve the BLS data by creating a user defined function called get_data. I call this function in a For loop to get 4 sets of data i.e json data from 1980-1989, 1990-1999, 2000-2009 and 2010-2018."
   ]
  },
  {
   "cell_type": "code",
   "execution_count": 2,
   "metadata": {},
   "outputs": [],
   "source": [
    "ids= ['CES3000000011', 'CES5500000011','CES6000000011']\n",
    "f_names= [ ]\n",
    "headers = {'Content-type': 'application/json'}\n",
    "def get_data(from_year,to_year):\n",
    "    data = json.dumps({\"seriesid\": ids, \"startyear\": from_year, \"endyear\": to_year})\n",
    "    p = requests.post('https://api.bls.gov/publicAPI/v1/timeseries/data/', data=data, headers=headers)\n",
    "    json_data = json.loads(p.text)\n",
    "    f_name=from_year+to_year+\"data\"+\".json\"\n",
    "    f_names.append(f_name)\n",
    "    with open(f_name, 'w') as outfile:\n",
    "        json.dump(json_data, outfile)\n",
    "\n",
    "fromyear_list=[\"1980\",\"1990\",\"2000\",\"2010\"]\n",
    "toyear_list=[\"1989\",\"1999\",\"2009\",\"2018\"]\n",
    "for i in range(len(fromyear_list)):\n",
    "    get_data(fromyear_list[i],toyear_list[i])"
   ]
  },
  {
   "cell_type": "markdown",
   "metadata": {},
   "source": [
    "### The 2nd part of the API version 1.0's code is the use of pretty table. I use this code to generate the retrieved output in 2 formats:\n",
    "### 1. as a pretty table format, denoted as x\n",
    "### 2. as a dataframe,denoted as prettydf"
   ]
  },
  {
   "cell_type": "code",
   "execution_count": 3,
   "metadata": {},
   "outputs": [],
   "source": [
    "import prettytable"
   ]
  },
  {
   "cell_type": "code",
   "execution_count": 4,
   "metadata": {},
   "outputs": [],
   "source": [
    "prettydf = pd.DataFrame(columns=[\"series id\",\"year\",\"period\",\"value\"])\n",
    "x=prettytable.PrettyTable([\"series id\",\"year\",\"period\",\"value\"])"
   ]
  },
  {
   "cell_type": "code",
   "execution_count": 5,
   "metadata": {},
   "outputs": [],
   "source": [
    "def make_prettydata(json_data):\n",
    "    for series in json_data['Results']['series']:\n",
    "        seriesId = series['seriesID']\n",
    "        for item in series['data']:\n",
    "            year = item['year']\n",
    "            period = item['periodName']\n",
    "            value = item['value']\n",
    "            x.add_row([seriesId,year,period,value])\n",
    "            prettydf.loc[len(prettydf)] =[seriesId,year,period,value]"
   ]
  },
  {
   "cell_type": "code",
   "execution_count": 6,
   "metadata": {},
   "outputs": [
    {
     "name": "stdout",
     "output_type": "stream",
     "text": [
      "{'status': 'REQUEST_SUCCEEDED', 'responseTime': 270, 'message': ['No Data Available for Series CES3000000011 Year: 1980', 'No Data Available for Series CES3000000011 Year: 1981', 'No Data Available for Series CES3000000011 Year: 1982', 'No Data Available for Series CES3000000011 Year: 1983', 'No Data Available for Series CES3000000011 Year: 1984', 'No Data Available for Series CES3000000011 Year: 1985', 'No Data Available for Series CES3000000011 Year: 1986', 'No Data Available for Series CES3000000011 Year: 1987', 'No Data Available for Series CES3000000011 Year: 1988', 'No Data Available for Series CES3000000011 Year: 1989', 'No Data Available for Series CES5500000011 Year: 1980', 'No Data Available for Series CES5500000011 Year: 1981', 'No Data Available for Series CES5500000011 Year: 1982', 'No Data Available for Series CES5500000011 Year: 1983', 'No Data Available for Series CES5500000011 Year: 1984', 'No Data Available for Series CES5500000011 Year: 1985', 'No Data Available for Series CES5500000011 Year: 1986', 'No Data Available for Series CES5500000011 Year: 1987', 'No Data Available for Series CES5500000011 Year: 1988', 'No Data Available for Series CES5500000011 Year: 1989', 'No Data Available for Series CES6000000011 Year: 1980', 'No Data Available for Series CES6000000011 Year: 1981', 'No Data Available for Series CES6000000011 Year: 1982', 'No Data Available for Series CES6000000011 Year: 1983', 'No Data Available for Series CES6000000011 Year: 1984', 'No Data Available for Series CES6000000011 Year: 1985', 'No Data Available for Series CES6000000011 Year: 1986', 'No Data Available for Series CES6000000011 Year: 1987', 'No Data Available for Series CES6000000011 Year: 1988', 'No Data Available for Series CES6000000011 Year: 1989'], 'Results': {'series': [{'seriesID': 'CES3000000011', 'data': []}, {'seriesID': 'CES5500000011', 'data': []}, {'seriesID': 'CES6000000011', 'data': []}]}}\n",
      "{'status': 'REQUEST_SUCCEEDED', 'responseTime': 252, 'message': ['No Data Available for Series CES3000000011 Year: 1990', 'No Data Available for Series CES3000000011 Year: 1991', 'No Data Available for Series CES3000000011 Year: 1992', 'No Data Available for Series CES3000000011 Year: 1993', 'No Data Available for Series CES3000000011 Year: 1994', 'No Data Available for Series CES3000000011 Year: 1995', 'No Data Available for Series CES3000000011 Year: 1996', 'No Data Available for Series CES3000000011 Year: 1997', 'No Data Available for Series CES3000000011 Year: 1998', 'No Data Available for Series CES3000000011 Year: 1999', 'No Data Available for Series CES5500000011 Year: 1990', 'No Data Available for Series CES5500000011 Year: 1991', 'No Data Available for Series CES5500000011 Year: 1992', 'No Data Available for Series CES5500000011 Year: 1993', 'No Data Available for Series CES5500000011 Year: 1994', 'No Data Available for Series CES5500000011 Year: 1995', 'No Data Available for Series CES5500000011 Year: 1996', 'No Data Available for Series CES5500000011 Year: 1997', 'No Data Available for Series CES5500000011 Year: 1998', 'No Data Available for Series CES5500000011 Year: 1999', 'No Data Available for Series CES6000000011 Year: 1990', 'No Data Available for Series CES6000000011 Year: 1991', 'No Data Available for Series CES6000000011 Year: 1992', 'No Data Available for Series CES6000000011 Year: 1993', 'No Data Available for Series CES6000000011 Year: 1994', 'No Data Available for Series CES6000000011 Year: 1995', 'No Data Available for Series CES6000000011 Year: 1996', 'No Data Available for Series CES6000000011 Year: 1997', 'No Data Available for Series CES6000000011 Year: 1998', 'No Data Available for Series CES6000000011 Year: 1999'], 'Results': {'series': [{'seriesID': 'CES3000000011', 'data': []}, {'seriesID': 'CES5500000011', 'data': []}, {'seriesID': 'CES6000000011', 'data': []}]}}\n",
      "{'status': 'REQUEST_SUCCEEDED', 'responseTime': 265, 'message': ['No Data Available for Series CES3000000011 Year: 2000', 'No Data Available for Series CES3000000011 Year: 2001', 'No Data Available for Series CES3000000011 Year: 2002', 'No Data Available for Series CES3000000011 Year: 2003', 'No Data Available for Series CES3000000011 Year: 2004', 'No Data Available for Series CES3000000011 Year: 2005', 'No Data Available for Series CES5500000011 Year: 2000', 'No Data Available for Series CES5500000011 Year: 2001', 'No Data Available for Series CES5500000011 Year: 2002', 'No Data Available for Series CES5500000011 Year: 2003', 'No Data Available for Series CES5500000011 Year: 2004', 'No Data Available for Series CES5500000011 Year: 2005', 'No Data Available for Series CES6000000011 Year: 2000', 'No Data Available for Series CES6000000011 Year: 2001', 'No Data Available for Series CES6000000011 Year: 2002', 'No Data Available for Series CES6000000011 Year: 2003', 'No Data Available for Series CES6000000011 Year: 2004', 'No Data Available for Series CES6000000011 Year: 2005'], 'Results': {'series': [{'seriesID': 'CES3000000011', 'data': [{'year': '2009', 'period': 'M12', 'periodName': 'December', 'value': '918.26', 'footnotes': [{}]}, {'year': '2009', 'period': 'M11', 'periodName': 'November', 'value': '918.32', 'footnotes': [{}]}, {'year': '2009', 'period': 'M10', 'periodName': 'October', 'value': '908.62', 'footnotes': [{}]}, {'year': '2009', 'period': 'M09', 'periodName': 'September', 'value': '906.70', 'footnotes': [{}]}, {'year': '2009', 'period': 'M08', 'periodName': 'August', 'value': '903.99', 'footnotes': [{}]}, {'year': '2009', 'period': 'M07', 'periodName': 'July', 'value': '898.59', 'footnotes': [{}]}, {'year': '2009', 'period': 'M06', 'periodName': 'June', 'value': '890.87', 'footnotes': [{}]}, {'year': '2009', 'period': 'M05', 'periodName': 'May', 'value': '887.80', 'footnotes': [{}]}, {'year': '2009', 'period': 'M04', 'periodName': 'April', 'value': '891.65', 'footnotes': [{}]}, {'year': '2009', 'period': 'M03', 'periodName': 'March', 'value': '887.80', 'footnotes': [{}]}, {'year': '2009', 'period': 'M02', 'periodName': 'February', 'value': '893.49', 'footnotes': [{}]}, {'year': '2009', 'period': 'M01', 'periodName': 'January', 'value': '885.36', 'footnotes': [{}]}, {'year': '2008', 'period': 'M12', 'periodName': 'December', 'value': '884.83', 'footnotes': [{}]}, {'year': '2008', 'period': 'M11', 'periodName': 'November', 'value': '890.44', 'footnotes': [{}]}, {'year': '2008', 'period': 'M10', 'periodName': 'October', 'value': '890.87', 'footnotes': [{}]}, {'year': '2008', 'period': 'M09', 'periodName': 'September', 'value': '881.50', 'footnotes': [{}]}, {'year': '2008', 'period': 'M08', 'periodName': 'August', 'value': '886.98', 'footnotes': [{}]}, {'year': '2008', 'period': 'M07', 'periodName': 'July', 'value': '882.99', 'footnotes': [{}]}, {'year': '2008', 'period': 'M06', 'periodName': 'June', 'value': '887.60', 'footnotes': [{}]}, {'year': '2008', 'period': 'M05', 'periodName': 'May', 'value': '881.60', 'footnotes': [{}]}, {'year': '2008', 'period': 'M04', 'periodName': 'April', 'value': '875.20', 'footnotes': [{}]}, {'year': '2008', 'period': 'M03', 'periodName': 'March', 'value': '883.19', 'footnotes': [{}]}, {'year': '2008', 'period': 'M02', 'periodName': 'February', 'value': '873.20', 'footnotes': [{}]}, {'year': '2008', 'period': 'M01', 'periodName': 'January', 'value': '868.00', 'footnotes': [{}]}, {'year': '2007', 'period': 'M12', 'periodName': 'December', 'value': '873.38', 'footnotes': [{}]}, {'year': '2007', 'period': 'M11', 'periodName': 'November', 'value': '869.37', 'footnotes': [{}]}, {'year': '2007', 'period': 'M10', 'periodName': 'October', 'value': '860.64', 'footnotes': [{}]}, {'year': '2007', 'period': 'M09', 'periodName': 'September', 'value': '868.57', 'footnotes': [{}]}, {'year': '2007', 'period': 'M08', 'periodName': 'August', 'value': '866.96', 'footnotes': [{}]}, {'year': '2007', 'period': 'M07', 'periodName': 'July', 'value': '865.36', 'footnotes': [{}]}, {'year': '2007', 'period': 'M06', 'periodName': 'June', 'value': '864.16', 'footnotes': [{}]}, {'year': '2007', 'period': 'M05', 'periodName': 'May', 'value': '856.80', 'footnotes': [{}]}, {'year': '2007', 'period': 'M04', 'periodName': 'April', 'value': '859.34', 'footnotes': [{}]}, {'year': '2007', 'period': 'M03', 'periodName': 'March', 'value': '851.20', 'footnotes': [{}]}, {'year': '2007', 'period': 'M02', 'periodName': 'February', 'value': '847.34', 'footnotes': [{}]}, {'year': '2007', 'period': 'M01', 'periodName': 'January', 'value': '847.60', 'footnotes': [{}]}, {'year': '2006', 'period': 'M12', 'periodName': 'December', 'value': '849.47', 'footnotes': [{}]}, {'year': '2006', 'period': 'M11', 'periodName': 'November', 'value': '842.69', 'footnotes': [{}]}, {'year': '2006', 'period': 'M10', 'periodName': 'October', 'value': '847.20', 'footnotes': [{}]}, {'year': '2006', 'period': 'M09', 'periodName': 'September', 'value': '839.50', 'footnotes': [{}]}, {'year': '2006', 'period': 'M08', 'periodName': 'August', 'value': '835.11', 'footnotes': [{}]}, {'year': '2006', 'period': 'M07', 'periodName': 'July', 'value': '838.00', 'footnotes': [{}]}, {'year': '2006', 'period': 'M06', 'periodName': 'June', 'value': '835.28', 'footnotes': [{}]}, {'year': '2006', 'period': 'M05', 'periodName': 'May', 'value': '829.20', 'footnotes': [{}]}, {'year': '2006', 'period': 'M04', 'periodName': 'April', 'value': '829.83', 'footnotes': [{}]}, {'year': '2006', 'period': 'M03', 'periodName': 'March', 'value': '823.46', 'footnotes': [{}]}]}, {'seriesID': 'CES5500000011', 'data': [{'year': '2009', 'period': 'M12', 'periodName': 'December', 'value': '984.91', 'footnotes': [{}]}, {'year': '2009', 'period': 'M11', 'periodName': 'November', 'value': '983.81', 'footnotes': [{}]}, {'year': '2009', 'period': 'M10', 'periodName': 'October', 'value': '983.56', 'footnotes': [{}]}, {'year': '2009', 'period': 'M09', 'periodName': 'September', 'value': '976.85', 'footnotes': [{}]}, {'year': '2009', 'period': 'M08', 'periodName': 'August', 'value': '973.56', 'footnotes': [{}]}, {'year': '2009', 'period': 'M07', 'periodName': 'July', 'value': '970.27', 'footnotes': [{}]}, {'year': '2009', 'period': 'M06', 'periodName': 'June', 'value': '967.98', 'footnotes': [{}]}, {'year': '2009', 'period': 'M05', 'periodName': 'May', 'value': '966.24', 'footnotes': [{}]}, {'year': '2009', 'period': 'M04', 'periodName': 'April', 'value': '961.48', 'footnotes': [{}]}, {'year': '2009', 'period': 'M03', 'periodName': 'March', 'value': '957.03', 'footnotes': [{}]}, {'year': '2009', 'period': 'M02', 'periodName': 'February', 'value': '963.74', 'footnotes': [{}]}, {'year': '2009', 'period': 'M01', 'periodName': 'January', 'value': '964.48', 'footnotes': [{}]}, {'year': '2008', 'period': 'M12', 'periodName': 'December', 'value': '959.95', 'footnotes': [{}]}, {'year': '2008', 'period': 'M11', 'periodName': 'November', 'value': '963.01', 'footnotes': [{}]}, {'year': '2008', 'period': 'M10', 'periodName': 'October', 'value': '963.31', 'footnotes': [{}]}, {'year': '2008', 'period': 'M09', 'periodName': 'September', 'value': '963.97', 'footnotes': [{}]}, {'year': '2008', 'period': 'M08', 'periodName': 'August', 'value': '961.48', 'footnotes': [{}]}, {'year': '2008', 'period': 'M07', 'periodName': 'July', 'value': '960.38', 'footnotes': [{}]}, {'year': '2008', 'period': 'M06', 'periodName': 'June', 'value': '954.89', 'footnotes': [{}]}, {'year': '2008', 'period': 'M05', 'periodName': 'May', 'value': '960.44', 'footnotes': [{}]}, {'year': '2008', 'period': 'M04', 'periodName': 'April', 'value': '956.36', 'footnotes': [{}]}, {'year': '2008', 'period': 'M03', 'periodName': 'March', 'value': '951.92', 'footnotes': [{}]}, {'year': '2008', 'period': 'M02', 'periodName': 'February', 'value': '951.19', 'footnotes': [{}]}, {'year': '2008', 'period': 'M01', 'periodName': 'January', 'value': '949.37', 'footnotes': [{}]}, {'year': '2007', 'period': 'M12', 'periodName': 'December', 'value': '948.67', 'footnotes': [{}]}, {'year': '2007', 'period': 'M11', 'periodName': 'November', 'value': '942.76', 'footnotes': [{}]}, {'year': '2007', 'period': 'M10', 'periodName': 'October', 'value': '941.34', 'footnotes': [{}]}, {'year': '2007', 'period': 'M09', 'periodName': 'September', 'value': '941.70', 'footnotes': [{}]}, {'year': '2007', 'period': 'M08', 'periodName': 'August', 'value': '941.72', 'footnotes': [{}]}, {'year': '2007', 'period': 'M07', 'periodName': 'July', 'value': '936.59', 'footnotes': [{}]}, {'year': '2007', 'period': 'M06', 'periodName': 'June', 'value': '942.82', 'footnotes': [{}]}, {'year': '2007', 'period': 'M05', 'periodName': 'May', 'value': '932.21', 'footnotes': [{}]}, {'year': '2007', 'period': 'M04', 'periodName': 'April', 'value': '921.65', 'footnotes': [{}]}, {'year': '2007', 'period': 'M03', 'periodName': 'March', 'value': '932.57', 'footnotes': [{}]}, {'year': '2007', 'period': 'M02', 'periodName': 'February', 'value': '924.55', 'footnotes': [{}]}, {'year': '2007', 'period': 'M01', 'periodName': 'January', 'value': '921.95', 'footnotes': [{}]}, {'year': '2006', 'period': 'M12', 'periodName': 'December', 'value': '925.52', 'footnotes': [{}]}, {'year': '2006', 'period': 'M11', 'periodName': 'November', 'value': '921.59', 'footnotes': [{}]}, {'year': '2006', 'period': 'M10', 'periodName': 'October', 'value': '908.85', 'footnotes': [{}]}, {'year': '2006', 'period': 'M09', 'periodName': 'September', 'value': '912.36', 'footnotes': [{}]}, {'year': '2006', 'period': 'M08', 'periodName': 'August', 'value': '908.05', 'footnotes': [{}]}, {'year': '2006', 'period': 'M07', 'periodName': 'July', 'value': '906.95', 'footnotes': [{}]}, {'year': '2006', 'period': 'M06', 'periodName': 'June', 'value': '898.66', 'footnotes': [{}]}, {'year': '2006', 'period': 'M05', 'periodName': 'May', 'value': '892.91', 'footnotes': [{}]}, {'year': '2006', 'period': 'M04', 'periodName': 'April', 'value': '897.92', 'footnotes': [{}]}, {'year': '2006', 'period': 'M03', 'periodName': 'March', 'value': '887.62', 'footnotes': [{}]}]}, {'seriesID': 'CES6000000011', 'data': [{'year': '2009', 'period': 'M12', 'periodName': 'December', 'value': '949.90', 'footnotes': [{}]}, {'year': '2009', 'period': 'M11', 'periodName': 'November', 'value': '953.92', 'footnotes': [{}]}, {'year': '2009', 'period': 'M10', 'periodName': 'October', 'value': '949.90', 'footnotes': [{}]}, {'year': '2009', 'period': 'M09', 'periodName': 'September', 'value': '953.05', 'footnotes': [{}]}, {'year': '2009', 'period': 'M08', 'periodName': 'August', 'value': '947.10', 'footnotes': [{}]}, {'year': '2009', 'period': 'M07', 'periodName': 'July', 'value': '948.15', 'footnotes': [{}]}, {'year': '2009', 'period': 'M06', 'periodName': 'June', 'value': '947.10', 'footnotes': [{}]}, {'year': '2009', 'period': 'M05', 'periodName': 'May', 'value': '948.05', 'footnotes': [{}]}, {'year': '2009', 'period': 'M04', 'periodName': 'April', 'value': '949.46', 'footnotes': [{}]}, {'year': '2009', 'period': 'M03', 'periodName': 'March', 'value': '945.95', 'footnotes': [{}]}, {'year': '2009', 'period': 'M02', 'periodName': 'February', 'value': '942.08', 'footnotes': [{}]}, {'year': '2009', 'period': 'M01', 'periodName': 'January', 'value': '943.22', 'footnotes': [{}]}, {'year': '2008', 'period': 'M12', 'periodName': 'December', 'value': '930.78', 'footnotes': [{}]}, {'year': '2008', 'period': 'M11', 'periodName': 'November', 'value': '934.56', 'footnotes': [{}]}, {'year': '2008', 'period': 'M10', 'periodName': 'October', 'value': '931.73', 'footnotes': [{}]}, {'year': '2008', 'period': 'M09', 'periodName': 'September', 'value': '920.13', 'footnotes': [{}]}, {'year': '2008', 'period': 'M08', 'periodName': 'August', 'value': '919.21', 'footnotes': [{}]}, {'year': '2008', 'period': 'M07', 'periodName': 'July', 'value': '912.51', 'footnotes': [{}]}, {'year': '2008', 'period': 'M06', 'periodName': 'June', 'value': '907.92', 'footnotes': [{}]}, {'year': '2008', 'period': 'M05', 'periodName': 'May', 'value': '902.53', 'footnotes': [{}]}, {'year': '2008', 'period': 'M04', 'periodName': 'April', 'value': '896.90', 'footnotes': [{}]}, {'year': '2008', 'period': 'M03', 'periodName': 'March', 'value': '897.39', 'footnotes': [{}]}, {'year': '2008', 'period': 'M02', 'periodName': 'February', 'value': '888.10', 'footnotes': [{}]}, {'year': '2008', 'period': 'M01', 'periodName': 'January', 'value': '885.28', 'footnotes': [{}]}, {'year': '2007', 'period': 'M12', 'periodName': 'December', 'value': '883.56', 'footnotes': [{}]}, {'year': '2007', 'period': 'M11', 'periodName': 'November', 'value': '884.65', 'footnotes': [{}]}, {'year': '2007', 'period': 'M10', 'periodName': 'October', 'value': '882.52', 'footnotes': [{}]}, {'year': '2007', 'period': 'M09', 'periodName': 'September', 'value': '879.69', 'footnotes': [{}]}, {'year': '2007', 'period': 'M08', 'periodName': 'August', 'value': '878.63', 'footnotes': [{}]}, {'year': '2007', 'period': 'M07', 'periodName': 'July', 'value': '876.50', 'footnotes': [{}]}, {'year': '2007', 'period': 'M06', 'periodName': 'June', 'value': '879.69', 'footnotes': [{}]}, {'year': '2007', 'period': 'M05', 'periodName': 'May', 'value': '871.55', 'footnotes': [{}]}, {'year': '2007', 'period': 'M04', 'periodName': 'April', 'value': '866.59', 'footnotes': [{}]}, {'year': '2007', 'period': 'M03', 'periodName': 'March', 'value': '864.47', 'footnotes': [{}]}, {'year': '2007', 'period': 'M02', 'periodName': 'February', 'value': '863.01', 'footnotes': [{}]}, {'year': '2007', 'period': 'M01', 'periodName': 'January', 'value': '853.60', 'footnotes': [{}]}, {'year': '2006', 'period': 'M12', 'periodName': 'December', 'value': '854.91', 'footnotes': [{}]}, {'year': '2006', 'period': 'M11', 'periodName': 'November', 'value': '849.25', 'footnotes': [{}]}, {'year': '2006', 'period': 'M10', 'periodName': 'October', 'value': '840.93', 'footnotes': [{}]}, {'year': '2006', 'period': 'M09', 'periodName': 'September', 'value': '845.71', 'footnotes': [{}]}, {'year': '2006', 'period': 'M08', 'periodName': 'August', 'value': '831.52', 'footnotes': [{}]}, {'year': '2006', 'period': 'M07', 'periodName': 'July', 'value': '830.37', 'footnotes': [{}]}, {'year': '2006', 'period': 'M06', 'periodName': 'June', 'value': '833.54', 'footnotes': [{}]}, {'year': '2006', 'period': 'M05', 'periodName': 'May', 'value': '821.34', 'footnotes': [{}]}, {'year': '2006', 'period': 'M04', 'periodName': 'April', 'value': '827.55', 'footnotes': [{}]}, {'year': '2006', 'period': 'M03', 'periodName': 'March', 'value': '819.59', 'footnotes': [{}]}]}]}}\n"
     ]
    },
    {
     "name": "stdout",
     "output_type": "stream",
     "text": [
      "{'status': 'REQUEST_SUCCEEDED', 'responseTime': 247, 'message': [], 'Results': {'series': [{'seriesID': 'CES3000000011', 'data': [{'year': '2018', 'period': 'M12', 'periodName': 'December', 'value': '1117.80', 'footnotes': [{}]}, {'year': '2018', 'period': 'M11', 'periodName': 'November', 'value': '1111.39', 'footnotes': [{}]}, {'year': '2018', 'period': 'M10', 'periodName': 'October', 'value': '1108.13', 'footnotes': [{}]}, {'year': '2018', 'period': 'M09', 'periodName': 'September', 'value': '1110.03', 'footnotes': [{}]}, {'year': '2018', 'period': 'M08', 'periodName': 'August', 'value': '1111.51', 'footnotes': [{}]}, {'year': '2018', 'period': 'M07', 'periodName': 'July', 'value': '1108.23', 'footnotes': [{}]}, {'year': '2018', 'period': 'M06', 'periodName': 'June', 'value': '1105.53', 'footnotes': [{}]}, {'year': '2018', 'period': 'M05', 'periodName': 'May', 'value': '1100.38', 'footnotes': [{}]}, {'year': '2018', 'period': 'M04', 'periodName': 'April', 'value': '1104.95', 'footnotes': [{}]}, {'year': '2018', 'period': 'M03', 'periodName': 'March', 'value': '1099.80', 'footnotes': [{}]}, {'year': '2018', 'period': 'M02', 'periodName': 'February', 'value': '1100.44', 'footnotes': [{}]}, {'year': '2018', 'period': 'M01', 'periodName': 'January', 'value': '1095.07', 'footnotes': [{}]}, {'year': '2017', 'period': 'M12', 'periodName': 'December', 'value': '1093.03', 'footnotes': [{}]}, {'year': '2017', 'period': 'M11', 'periodName': 'November', 'value': '1095.93', 'footnotes': [{}]}, {'year': '2017', 'period': 'M10', 'periodName': 'October', 'value': '1093.26', 'footnotes': [{}]}, {'year': '2017', 'period': 'M09', 'periodName': 'September', 'value': '1089.36', 'footnotes': [{}]}, {'year': '2017', 'period': 'M08', 'periodName': 'August', 'value': '1085.69', 'footnotes': [{}]}, {'year': '2017', 'period': 'M07', 'periodName': 'July', 'value': '1091.21', 'footnotes': [{}]}, {'year': '2017', 'period': 'M06', 'periodName': 'June', 'value': '1083.65', 'footnotes': [{}]}, {'year': '2017', 'period': 'M05', 'periodName': 'May', 'value': '1079.77', 'footnotes': [{}]}, {'year': '2017', 'period': 'M04', 'periodName': 'April', 'value': '1083.24', 'footnotes': [{}]}, {'year': '2017', 'period': 'M03', 'periodName': 'March', 'value': '1071.84', 'footnotes': [{}]}, {'year': '2017', 'period': 'M02', 'periodName': 'February', 'value': '1074.48', 'footnotes': [{}]}, {'year': '2017', 'period': 'M01', 'periodName': 'January', 'value': '1074.26', 'footnotes': [{}]}, {'year': '2016', 'period': 'M12', 'periodName': 'December', 'value': '1070.82', 'footnotes': [{}]}, {'year': '2016', 'period': 'M11', 'periodName': 'November', 'value': '1065.75', 'footnotes': [{}]}, {'year': '2016', 'period': 'M10', 'periodName': 'October', 'value': '1069.19', 'footnotes': [{}]}, {'year': '2016', 'period': 'M09', 'periodName': 'September', 'value': '1063.08', 'footnotes': [{}]}, {'year': '2016', 'period': 'M08', 'periodName': 'August', 'value': '1060.88', 'footnotes': [{}]}, {'year': '2016', 'period': 'M07', 'periodName': 'July', 'value': '1059.01', 'footnotes': [{}]}, {'year': '2016', 'period': 'M06', 'periodName': 'June', 'value': '1057.39', 'footnotes': [{}]}, {'year': '2016', 'period': 'M05', 'periodName': 'May', 'value': '1059.17', 'footnotes': [{}]}, {'year': '2016', 'period': 'M04', 'periodName': 'April', 'value': '1055.09', 'footnotes': [{}]}, {'year': '2016', 'period': 'M03', 'periodName': 'March', 'value': '1048.03', 'footnotes': [{}]}, {'year': '2016', 'period': 'M02', 'periodName': 'February', 'value': '1044.36', 'footnotes': [{}]}, {'year': '2016', 'period': 'M01', 'periodName': 'January', 'value': '1043.55', 'footnotes': [{}]}, {'year': '2015', 'period': 'M12', 'periodName': 'December', 'value': '1039.48', 'footnotes': [{}]}, {'year': '2015', 'period': 'M11', 'periodName': 'November', 'value': '1038.26', 'footnotes': [{}]}, {'year': '2015', 'period': 'M10', 'periodName': 'October', 'value': '1035.41', 'footnotes': [{}]}, {'year': '2015', 'period': 'M09', 'periodName': 'September', 'value': '1031.24', 'footnotes': [{}]}, {'year': '2015', 'period': 'M08', 'periodName': 'August', 'value': '1037.63', 'footnotes': [{}]}, {'year': '2015', 'period': 'M07', 'periodName': 'July', 'value': '1029.38', 'footnotes': [{}]}, {'year': '2015', 'period': 'M06', 'periodName': 'June', 'value': '1023.20', 'footnotes': [{}]}, {'year': '2015', 'period': 'M05', 'periodName': 'May', 'value': '1023.61', 'footnotes': [{}]}, {'year': '2015', 'period': 'M04', 'periodName': 'April', 'value': '1024.49', 'footnotes': [{}]}, {'year': '2015', 'period': 'M03', 'periodName': 'March', 'value': '1026.59', 'footnotes': [{}]}, {'year': '2015', 'period': 'M02', 'periodName': 'February', 'value': '1026.64', 'footnotes': [{}]}, {'year': '2015', 'period': 'M01', 'periodName': 'January', 'value': '1022.91', 'footnotes': [{}]}, {'year': '2014', 'period': 'M12', 'periodName': 'December', 'value': '1021.72', 'footnotes': [{}]}, {'year': '2014', 'period': 'M11', 'periodName': 'November', 'value': '1025.03', 'footnotes': [{}]}, {'year': '2014', 'period': 'M10', 'periodName': 'October', 'value': '1021.31', 'footnotes': [{}]}, {'year': '2014', 'period': 'M09', 'periodName': 'September', 'value': '1018.03', 'footnotes': [{}]}, {'year': '2014', 'period': 'M08', 'periodName': 'August', 'value': '1020.08', 'footnotes': [{}]}, {'year': '2014', 'period': 'M07', 'periodName': 'July', 'value': '1015.96', 'footnotes': [{}]}, {'year': '2014', 'period': 'M06', 'periodName': 'June', 'value': '1020.51', 'footnotes': [{}]}, {'year': '2014', 'period': 'M05', 'periodName': 'May', 'value': '1017.23', 'footnotes': [{}]}, {'year': '2014', 'period': 'M04', 'periodName': 'April', 'value': '1010.64', 'footnotes': [{}]}, {'year': '2014', 'period': 'M03', 'periodName': 'March', 'value': '1013.93', 'footnotes': [{}]}, {'year': '2014', 'period': 'M02', 'periodName': 'February', 'value': '1006.51', 'footnotes': [{}]}, {'year': '2014', 'period': 'M01', 'periodName': 'January', 'value': '1004.48', 'footnotes': [{}]}, {'year': '2013', 'period': 'M12', 'periodName': 'December', 'value': '1006.96', 'footnotes': [{}]}, {'year': '2013', 'period': 'M11', 'periodName': 'November', 'value': '1007.78', 'footnotes': [{}]}, {'year': '2013', 'period': 'M10', 'periodName': 'October', 'value': '998.78', 'footnotes': [{}]}, {'year': '2013', 'period': 'M09', 'periodName': 'September', 'value': '1001.23', 'footnotes': [{}]}, {'year': '2013', 'period': 'M08', 'periodName': 'August', 'value': '997.96', 'footnotes': [{}]}, {'year': '2013', 'period': 'M07', 'periodName': 'July', 'value': '992.27', 'footnotes': [{}]}, {'year': '2013', 'period': 'M06', 'periodName': 'June', 'value': '993.89', 'footnotes': [{}]}, {'year': '2013', 'period': 'M05', 'periodName': 'May', 'value': '989.82', 'footnotes': [{}]}, {'year': '2013', 'period': 'M04', 'periodName': 'April', 'value': '986.16', 'footnotes': [{}]}, {'year': '2013', 'period': 'M03', 'periodName': 'March', 'value': '985.73', 'footnotes': [{}]}, {'year': '2013', 'period': 'M02', 'periodName': 'February', 'value': '984.91', 'footnotes': [{}]}, {'year': '2013', 'period': 'M01', 'periodName': 'January', 'value': '976.02', 'footnotes': [{}]}, {'year': '2012', 'period': 'M12', 'periodName': 'December', 'value': '980.46', 'footnotes': [{}]}, {'year': '2012', 'period': 'M11', 'periodName': 'November', 'value': '973.99', 'footnotes': [{}]}, {'year': '2012', 'period': 'M10', 'periodName': 'October', 'value': '970.75', 'footnotes': [{}]}, {'year': '2012', 'period': 'M09', 'periodName': 'September', 'value': '972.37', 'footnotes': [{}]}, {'year': '2012', 'period': 'M08', 'periodName': 'August', 'value': '970.34', 'footnotes': [{}]}, {'year': '2012', 'period': 'M07', 'periodName': 'July', 'value': '977.16', 'footnotes': [{}]}, {'year': '2012', 'period': 'M06', 'periodName': 'June', 'value': '973.14', 'footnotes': [{}]}, {'year': '2012', 'period': 'M05', 'periodName': 'May', 'value': '966.28', 'footnotes': [{}]}, {'year': '2012', 'period': 'M04', 'periodName': 'April', 'value': '977.16', 'footnotes': [{}]}, {'year': '2012', 'period': 'M03', 'periodName': 'March', 'value': '971.51', 'footnotes': [{}]}, {'year': '2012', 'period': 'M02', 'periodName': 'February', 'value': '972.67', 'footnotes': [{}]}, {'year': '2012', 'period': 'M01', 'periodName': 'January', 'value': '973.90', 'footnotes': [{}]}, {'year': '2011', 'period': 'M12', 'periodName': 'December', 'value': '967.50', 'footnotes': [{}]}, {'year': '2011', 'period': 'M11', 'periodName': 'November', 'value': '958.29', 'footnotes': [{}]}, {'year': '2011', 'period': 'M10', 'periodName': 'October', 'value': '972.32', 'footnotes': [{}]}, {'year': '2011', 'period': 'M09', 'periodName': 'September', 'value': '957.53', 'footnotes': [{}]}, {'year': '2011', 'period': 'M08', 'periodName': 'August', 'value': '957.08', 'footnotes': [{}]}, {'year': '2011', 'period': 'M07', 'periodName': 'July', 'value': '959.90', 'footnotes': [{}]}, {'year': '2011', 'period': 'M06', 'periodName': 'June', 'value': '956.67', 'footnotes': [{}]}, {'year': '2011', 'period': 'M05', 'periodName': 'May', 'value': '959.45', 'footnotes': [{}]}, {'year': '2011', 'period': 'M04', 'periodName': 'April', 'value': '953.84', 'footnotes': [{}]}, {'year': '2011', 'period': 'M03', 'periodName': 'March', 'value': '950.61', 'footnotes': [{}]}, {'year': '2011', 'period': 'M02', 'periodName': 'February', 'value': '951.75', 'footnotes': [{}]}, {'year': '2011', 'period': 'M01', 'periodName': 'January', 'value': '952.29', 'footnotes': [{}]}, {'year': '2010', 'period': 'M12', 'periodName': 'December', 'value': '949.00', 'footnotes': [{}]}, {'year': '2010', 'period': 'M11', 'periodName': 'November', 'value': '945.36', 'footnotes': [{}]}, {'year': '2010', 'period': 'M10', 'periodName': 'October', 'value': '950.94', 'footnotes': [{}]}, {'year': '2010', 'period': 'M09', 'periodName': 'September', 'value': '946.98', 'footnotes': [{}]}, {'year': '2010', 'period': 'M08', 'periodName': 'August', 'value': '944.23', 'footnotes': [{}]}, {'year': '2010', 'period': 'M07', 'periodName': 'July', 'value': '939.07', 'footnotes': [{}]}, {'year': '2010', 'period': 'M06', 'periodName': 'June', 'value': '931.52', 'footnotes': [{}]}, {'year': '2010', 'period': 'M05', 'periodName': 'May', 'value': '944.06', 'footnotes': [{}]}, {'year': '2010', 'period': 'M04', 'periodName': 'April', 'value': '933.04', 'footnotes': [{}]}, {'year': '2010', 'period': 'M03', 'periodName': 'March', 'value': '926.80', 'footnotes': [{}]}, {'year': '2010', 'period': 'M02', 'periodName': 'February', 'value': '919.91', 'footnotes': [{}]}, {'year': '2010', 'period': 'M01', 'periodName': 'January', 'value': '925.60', 'footnotes': [{}]}]}, {'seriesID': 'CES5500000011', 'data': [{'year': '2018', 'period': 'M12', 'periodName': 'December', 'value': '1329.91', 'footnotes': [{}]}, {'year': '2018', 'period': 'M11', 'periodName': 'November', 'value': '1327.66', 'footnotes': [{}]}, {'year': '2018', 'period': 'M10', 'periodName': 'October', 'value': '1321.49', 'footnotes': [{}]}, {'year': '2018', 'period': 'M09', 'periodName': 'September', 'value': '1313.25', 'footnotes': [{}]}, {'year': '2018', 'period': 'M08', 'periodName': 'August', 'value': '1312.99', 'footnotes': [{}]}, {'year': '2018', 'period': 'M07', 'periodName': 'July', 'value': '1305.38', 'footnotes': [{}]}, {'year': '2018', 'period': 'M06', 'periodName': 'June', 'value': '1307.44', 'footnotes': [{}]}, {'year': '2018', 'period': 'M05', 'periodName': 'May', 'value': '1303.59', 'footnotes': [{}]}, {'year': '2018', 'period': 'M04', 'periodName': 'April', 'value': '1295.70', 'footnotes': [{}]}, {'year': '2018', 'period': 'M03', 'periodName': 'March', 'value': '1289.63', 'footnotes': [{}]}, {'year': '2018', 'period': 'M02', 'periodName': 'February', 'value': '1287.80', 'footnotes': [{}]}, {'year': '2018', 'period': 'M01', 'periodName': 'January', 'value': '1287.05', 'footnotes': [{}]}, {'year': '2017', 'period': 'M12', 'periodName': 'December', 'value': '1279.53', 'footnotes': [{}]}, {'year': '2017', 'period': 'M11', 'periodName': 'November', 'value': '1268.62', 'footnotes': [{}]}, {'year': '2017', 'period': 'M10', 'periodName': 'October', 'value': '1264.50', 'footnotes': [{}]}, {'year': '2017', 'period': 'M09', 'periodName': 'September', 'value': '1255.13', 'footnotes': [{}]}, {'year': '2017', 'period': 'M08', 'periodName': 'August', 'value': '1250.63', 'footnotes': [{}]}, {'year': '2017', 'period': 'M07', 'periodName': 'July', 'value': '1243.18', 'footnotes': [{}]}, {'year': '2017', 'period': 'M06', 'periodName': 'June', 'value': '1243.81', 'footnotes': [{}]}, {'year': '2017', 'period': 'M05', 'periodName': 'May', 'value': '1230.09', 'footnotes': [{}]}, {'year': '2017', 'period': 'M04', 'periodName': 'April', 'value': '1230.09', 'footnotes': [{}]}, {'year': '2017', 'period': 'M03', 'periodName': 'March', 'value': '1221.58', 'footnotes': [{}]}, {'year': '2017', 'period': 'M02', 'periodName': 'February', 'value': '1228.59', 'footnotes': [{}]}, {'year': '2017', 'period': 'M01', 'periodName': 'January', 'value': '1213.09', 'footnotes': [{}]}, {'year': '2016', 'period': 'M12', 'periodName': 'December', 'value': '1222.61', 'footnotes': [{}]}, {'year': '2016', 'period': 'M11', 'periodName': 'November', 'value': '1221.86', 'footnotes': [{}]}, {'year': '2016', 'period': 'M10', 'periodName': 'October', 'value': '1214.38', 'footnotes': [{}]}, {'year': '2016', 'period': 'M09', 'periodName': 'September', 'value': '1221.38', 'footnotes': [{}]}, {'year': '2016', 'period': 'M08', 'periodName': 'August', 'value': '1218.38', 'footnotes': [{}]}, {'year': '2016', 'period': 'M07', 'periodName': 'July', 'value': '1218.62', 'footnotes': [{}]}, {'year': '2016', 'period': 'M06', 'periodName': 'June', 'value': '1207.88', 'footnotes': [{}]}, {'year': '2016', 'period': 'M05', 'periodName': 'May', 'value': '1206.75', 'footnotes': [{}]}, {'year': '2016', 'period': 'M04', 'periodName': 'April', 'value': '1212.81', 'footnotes': [{}]}, {'year': '2016', 'period': 'M03', 'periodName': 'March', 'value': '1209.59', 'footnotes': [{}]}, {'year': '2016', 'period': 'M02', 'periodName': 'February', 'value': '1204.33', 'footnotes': [{}]}, {'year': '2016', 'period': 'M01', 'periodName': 'January', 'value': '1210.73', 'footnotes': [{}]}, {'year': '2015', 'period': 'M12', 'periodName': 'December', 'value': '1199.24', 'footnotes': [{}]}, {'year': '2015', 'period': 'M11', 'periodName': 'November', 'value': '1192.30', 'footnotes': [{}]}, {'year': '2015', 'period': 'M10', 'periodName': 'October', 'value': '1192.30', 'footnotes': [{}]}, {'year': '2015', 'period': 'M09', 'periodName': 'September', 'value': '1193.96', 'footnotes': [{}]}, {'year': '2015', 'period': 'M08', 'periodName': 'August', 'value': '1186.28', 'footnotes': [{}]}, {'year': '2015', 'period': 'M07', 'periodName': 'July', 'value': '1184.40', 'footnotes': [{}]}, {'year': '2015', 'period': 'M06', 'periodName': 'June', 'value': '1190.94', 'footnotes': [{}]}, {'year': '2015', 'period': 'M05', 'periodName': 'May', 'value': '1185.90', 'footnotes': [{}]}, {'year': '2015', 'period': 'M04', 'periodName': 'April', 'value': '1179.51', 'footnotes': [{}]}, {'year': '2015', 'period': 'M03', 'periodName': 'March', 'value': '1171.88', 'footnotes': [{}]}, {'year': '2015', 'period': 'M02', 'periodName': 'February', 'value': '1166.13', 'footnotes': [{}]}, {'year': '2015', 'period': 'M01', 'periodName': 'January', 'value': '1165.13', 'footnotes': [{}]}, {'year': '2014', 'period': 'M12', 'periodName': 'December', 'value': '1160.90', 'footnotes': [{}]}, {'year': '2014', 'period': 'M11', 'periodName': 'November', 'value': '1160.90', 'footnotes': [{}]}, {'year': '2014', 'period': 'M10', 'periodName': 'October', 'value': '1153.69', 'footnotes': [{}]}, {'year': '2014', 'period': 'M09', 'periodName': 'September', 'value': '1152.57', 'footnotes': [{}]}, {'year': '2014', 'period': 'M08', 'periodName': 'August', 'value': '1151.82', 'footnotes': [{}]}, {'year': '2014', 'period': 'M07', 'periodName': 'July', 'value': '1141.57', 'footnotes': [{}]}, {'year': '2014', 'period': 'M06', 'periodName': 'June', 'value': '1142.78', 'footnotes': [{}]}, {'year': '2014', 'period': 'M05', 'periodName': 'May', 'value': '1137.58', 'footnotes': [{}]}, {'year': '2014', 'period': 'M04', 'periodName': 'April', 'value': '1133.78', 'footnotes': [{}]}, {'year': '2014', 'period': 'M03', 'periodName': 'March', 'value': '1136.46', 'footnotes': [{}]}, {'year': '2014', 'period': 'M02', 'periodName': 'February', 'value': '1132.00', 'footnotes': [{}]}, {'year': '2014', 'period': 'M01', 'periodName': 'January', 'value': '1124.87', 'footnotes': [{}]}, {'year': '2013', 'period': 'M12', 'periodName': 'December', 'value': '1122.95', 'footnotes': [{}]}, {'year': '2013', 'period': 'M11', 'periodName': 'November', 'value': '1127.53', 'footnotes': [{}]}, {'year': '2013', 'period': 'M10', 'periodName': 'October', 'value': '1124.50', 'footnotes': [{}]}, {'year': '2013', 'period': 'M09', 'periodName': 'September', 'value': '1123.76', 'footnotes': [{}]}, {'year': '2013', 'period': 'M08', 'periodName': 'August', 'value': '1126.79', 'footnotes': [{}]}, {'year': '2013', 'period': 'M07', 'periodName': 'July', 'value': '1120.73', 'footnotes': [{}]}, {'year': '2013', 'period': 'M06', 'periodName': 'June', 'value': '1124.22', 'footnotes': [{}]}, {'year': '2013', 'period': 'M05', 'periodName': 'May', 'value': '1115.60', 'footnotes': [{}]}, {'year': '2013', 'period': 'M04', 'periodName': 'April', 'value': '1117.49', 'footnotes': [{}]}, {'year': '2013', 'period': 'M03', 'periodName': 'March', 'value': '1112.65', 'footnotes': [{}]}, {'year': '2013', 'period': 'M02', 'periodName': 'February', 'value': '1115.26', 'footnotes': [{}]}, {'year': '2013', 'period': 'M01', 'periodName': 'January', 'value': '1106.30', 'footnotes': [{}]}, {'year': '2012', 'period': 'M12', 'periodName': 'December', 'value': '1110.42', 'footnotes': [{}]}, {'year': '2012', 'period': 'M11', 'periodName': 'November', 'value': '1106.69', 'footnotes': [{}]}, {'year': '2012', 'period': 'M10', 'periodName': 'October', 'value': '1098.52', 'footnotes': [{}]}, {'year': '2012', 'period': 'M09', 'periodName': 'September', 'value': '1098.11', 'footnotes': [{}]}, {'year': '2012', 'period': 'M08', 'periodName': 'August', 'value': '1085.92', 'footnotes': [{}]}, {'year': '2012', 'period': 'M07', 'periodName': 'July', 'value': '1084.06', 'footnotes': [{}]}, {'year': '2012', 'period': 'M06', 'periodName': 'June', 'value': '1080.35', 'footnotes': [{}]}, {'year': '2012', 'period': 'M05', 'periodName': 'May', 'value': '1078.92', 'footnotes': [{}]}, {'year': '2012', 'period': 'M04', 'periodName': 'April', 'value': '1081.03', 'footnotes': [{}]}, {'year': '2012', 'period': 'M03', 'periodName': 'March', 'value': '1078.34', 'footnotes': [{}]}, {'year': '2012', 'period': 'M02', 'periodName': 'February', 'value': '1072.00', 'footnotes': [{}]}, {'year': '2012', 'period': 'M01', 'periodName': 'January', 'value': '1069.64', 'footnotes': [{}]}, {'year': '2011', 'period': 'M12', 'periodName': 'December', 'value': '1057.46', 'footnotes': [{}]}, {'year': '2011', 'period': 'M11', 'periodName': 'November', 'value': '1060.66', 'footnotes': [{}]}, {'year': '2011', 'period': 'M10', 'periodName': 'October', 'value': '1057.30', 'footnotes': [{}]}, {'year': '2011', 'period': 'M09', 'periodName': 'September', 'value': '1053.38', 'footnotes': [{}]}, {'year': '2011', 'period': 'M08', 'periodName': 'August', 'value': '1035.83', 'footnotes': [{}]}, {'year': '2011', 'period': 'M07', 'periodName': 'July', 'value': '1042.34', 'footnotes': [{}]}, {'year': '2011', 'period': 'M06', 'periodName': 'June', 'value': '1038.43', 'footnotes': [{}]}, {'year': '2011', 'period': 'M05', 'periodName': 'May', 'value': '1032.30', 'footnotes': [{}]}, {'year': '2011', 'period': 'M04', 'periodName': 'April', 'value': '1030.44', 'footnotes': [{}]}, {'year': '2011', 'period': 'M03', 'periodName': 'March', 'value': '1027.30', 'footnotes': [{}]}, {'year': '2011', 'period': 'M02', 'periodName': 'February', 'value': '1024.33', 'footnotes': [{}]}, {'year': '2011', 'period': 'M01', 'periodName': 'January', 'value': '1018.98', 'footnotes': [{}]}, {'year': '2010', 'period': 'M12', 'periodName': 'December', 'value': '1022.11', 'footnotes': [{}]}, {'year': '2010', 'period': 'M11', 'periodName': 'November', 'value': '1018.02', 'footnotes': [{}]}, {'year': '2010', 'period': 'M10', 'periodName': 'October', 'value': '1016.91', 'footnotes': [{}]}, {'year': '2010', 'period': 'M09', 'periodName': 'September', 'value': '1011.95', 'footnotes': [{}]}, {'year': '2010', 'period': 'M08', 'periodName': 'August', 'value': '1011.58', 'footnotes': [{}]}, {'year': '2010', 'period': 'M07', 'periodName': 'July', 'value': '1012.32', 'footnotes': [{}]}, {'year': '2010', 'period': 'M06', 'periodName': 'June', 'value': '1012.21', 'footnotes': [{}]}, {'year': '2010', 'period': 'M05', 'periodName': 'May', 'value': '1007.51', 'footnotes': [{}]}, {'year': '2010', 'period': 'M04', 'periodName': 'April', 'value': '1003.31', 'footnotes': [{}]}, {'year': '2010', 'period': 'M03', 'periodName': 'March', 'value': '1002.70', 'footnotes': [{}]}, {'year': '2010', 'period': 'M02', 'periodName': 'February', 'value': '993.60', 'footnotes': [{}]}, {'year': '2010', 'period': 'M01', 'periodName': 'January', 'value': '992.86', 'footnotes': [{}]}]}, {'seriesID': 'CES6000000011', 'data': [{'year': '2018', 'period': 'M12', 'periodName': 'December', 'value': '1190.94', 'footnotes': [{}]}, {'year': '2018', 'period': 'M11', 'periodName': 'November', 'value': '1188.77', 'footnotes': [{}]}, {'year': '2018', 'period': 'M10', 'periodName': 'October', 'value': '1190.62', 'footnotes': [{}]}, {'year': '2018', 'period': 'M09', 'periodName': 'September', 'value': '1184.80', 'footnotes': [{}]}, {'year': '2018', 'period': 'M08', 'periodName': 'August', 'value': '1184.80', 'footnotes': [{}]}, {'year': '2018', 'period': 'M07', 'periodName': 'July', 'value': '1180.48', 'footnotes': [{}]}, {'year': '2018', 'period': 'M06', 'periodName': 'June', 'value': '1176.50', 'footnotes': [{}]}, {'year': '2018', 'period': 'M05', 'periodName': 'May', 'value': '1172.88', 'footnotes': [{}]}, {'year': '2018', 'period': 'M04', 'periodName': 'April', 'value': '1165.31', 'footnotes': [{}]}, {'year': '2018', 'period': 'M03', 'periodName': 'March', 'value': '1167.45', 'footnotes': [{}]}, {'year': '2018', 'period': 'M02', 'periodName': 'February', 'value': '1162.02', 'footnotes': [{}]}, {'year': '2018', 'period': 'M01', 'periodName': 'January', 'value': '1152.39', 'footnotes': [{}]}, {'year': '2017', 'period': 'M12', 'periodName': 'December', 'value': '1153.08', 'footnotes': [{}]}, {'year': '2017', 'period': 'M11', 'periodName': 'November', 'value': '1151.95', 'footnotes': [{}]}, {'year': '2017', 'period': 'M10', 'periodName': 'October', 'value': '1145.52', 'footnotes': [{}]}, {'year': '2017', 'period': 'M09', 'periodName': 'September', 'value': '1148.04', 'footnotes': [{}]}, {'year': '2017', 'period': 'M08', 'periodName': 'August', 'value': '1141.20', 'footnotes': [{}]}, {'year': '2017', 'period': 'M07', 'periodName': 'July', 'value': '1142.20', 'footnotes': [{}]}, {'year': '2017', 'period': 'M06', 'periodName': 'June', 'value': '1138.96', 'footnotes': [{}]}, {'year': '2017', 'period': 'M05', 'periodName': 'May', 'value': '1138.23', 'footnotes': [{}]}, {'year': '2017', 'period': 'M04', 'periodName': 'April', 'value': '1140.04', 'footnotes': [{}]}, {'year': '2017', 'period': 'M03', 'periodName': 'March', 'value': '1135.08', 'footnotes': [{}]}, {'year': '2017', 'period': 'M02', 'periodName': 'February', 'value': '1132.10', 'footnotes': [{}]}, {'year': '2017', 'period': 'M01', 'periodName': 'January', 'value': '1129.44', 'footnotes': [{}]}, {'year': '2016', 'period': 'M12', 'periodName': 'December', 'value': '1123.56', 'footnotes': [{}]}, {'year': '2016', 'period': 'M11', 'periodName': 'November', 'value': '1120.68', 'footnotes': [{}]}, {'year': '2016', 'period': 'M10', 'periodName': 'October', 'value': '1122.71', 'footnotes': [{}]}, {'year': '2016', 'period': 'M09', 'periodName': 'September', 'value': '1118.74', 'footnotes': [{}]}, {'year': '2016', 'period': 'M08', 'periodName': 'August', 'value': '1114.20', 'footnotes': [{}]}, {'year': '2016', 'period': 'M07', 'periodName': 'July', 'value': '1116.57', 'footnotes': [{}]}, {'year': '2016', 'period': 'M06', 'periodName': 'June', 'value': '1112.04', 'footnotes': [{}]}, {'year': '2016', 'period': 'M05', 'periodName': 'May', 'value': '1111.16', 'footnotes': [{}]}, {'year': '2016', 'period': 'M04', 'periodName': 'April', 'value': '1111.34', 'footnotes': [{}]}, {'year': '2016', 'period': 'M03', 'periodName': 'March', 'value': '1103.94', 'footnotes': [{}]}, {'year': '2016', 'period': 'M02', 'periodName': 'February', 'value': '1103.22', 'footnotes': [{}]}, {'year': '2016', 'period': 'M01', 'periodName': 'January', 'value': '1107.51', 'footnotes': [{}]}, {'year': '2015', 'period': 'M12', 'periodName': 'December', 'value': '1097.95', 'footnotes': [{}]}, {'year': '2015', 'period': 'M11', 'periodName': 'November', 'value': '1097.80', 'footnotes': [{}]}, {'year': '2015', 'period': 'M10', 'periodName': 'October', 'value': '1101.71', 'footnotes': [{}]}, {'year': '2015', 'period': 'M09', 'periodName': 'September', 'value': '1093.47', 'footnotes': [{}]}, {'year': '2015', 'period': 'M08', 'periodName': 'August', 'value': '1092.88', 'footnotes': [{}]}, {'year': '2015', 'period': 'M07', 'periodName': 'July', 'value': '1089.98', 'footnotes': [{}]}, {'year': '2015', 'period': 'M06', 'periodName': 'June', 'value': '1088.53', 'footnotes': [{}]}, {'year': '2015', 'period': 'M05', 'periodName': 'May', 'value': '1087.81', 'footnotes': [{}]}, {'year': '2015', 'period': 'M04', 'periodName': 'April', 'value': '1081.92', 'footnotes': [{}]}, {'year': '2015', 'period': 'M03', 'periodName': 'March', 'value': '1078.31', 'footnotes': [{}]}, {'year': '2015', 'period': 'M02', 'periodName': 'February', 'value': '1077.67', 'footnotes': [{}]}, {'year': '2015', 'period': 'M01', 'periodName': 'January', 'value': '1076.59', 'footnotes': [{}]}, {'year': '2014', 'period': 'M12', 'periodName': 'December', 'value': '1074.84', 'footnotes': [{}]}, {'year': '2014', 'period': 'M11', 'periodName': 'November', 'value': '1073.03', 'footnotes': [{}]}, {'year': '2014', 'period': 'M10', 'periodName': 'October', 'value': '1069.76', 'footnotes': [{}]}, {'year': '2014', 'period': 'M09', 'periodName': 'September', 'value': '1065.00', 'footnotes': [{}]}, {'year': '2014', 'period': 'M08', 'periodName': 'August', 'value': '1066.09', 'footnotes': [{}]}, {'year': '2014', 'period': 'M07', 'periodName': 'July', 'value': '1062.11', 'footnotes': [{}]}, {'year': '2014', 'period': 'M06', 'periodName': 'June', 'value': '1062.50', 'footnotes': [{}]}, {'year': '2014', 'period': 'M05', 'periodName': 'May', 'value': '1061.05', 'footnotes': [{}]}, {'year': '2014', 'period': 'M04', 'periodName': 'April', 'value': '1057.06', 'footnotes': [{}]}, {'year': '2014', 'period': 'M03', 'periodName': 'March', 'value': '1054.88', 'footnotes': [{}]}, {'year': '2014', 'period': 'M02', 'periodName': 'February', 'value': '1049.79', 'footnotes': [{}]}, {'year': '2014', 'period': 'M01', 'periodName': 'January', 'value': '1046.90', 'footnotes': [{}]}, {'year': '2013', 'period': 'M12', 'periodName': 'December', 'value': '1042.21', 'footnotes': [{}]}, {'year': '2013', 'period': 'M11', 'periodName': 'November', 'value': '1042.92', 'footnotes': [{}]}, {'year': '2013', 'period': 'M10', 'periodName': 'October', 'value': '1036.43', 'footnotes': [{}]}, {'year': '2013', 'period': 'M09', 'periodName': 'September', 'value': '1034.99', 'footnotes': [{}]}, {'year': '2013', 'period': 'M08', 'periodName': 'August', 'value': '1034.27', 'footnotes': [{}]}, {'year': '2013', 'period': 'M07', 'periodName': 'July', 'value': '1028.52', 'footnotes': [{}]}, {'year': '2013', 'period': 'M06', 'periodName': 'June', 'value': '1031.38', 'footnotes': [{}]}, {'year': '2013', 'period': 'M05', 'periodName': 'May', 'value': '1029.93', 'footnotes': [{}]}, {'year': '2013', 'period': 'M04', 'periodName': 'April', 'value': '1026.72', 'footnotes': [{}]}, {'year': '2013', 'period': 'M03', 'periodName': 'March', 'value': '1028.13', 'footnotes': [{}]}, {'year': '2013', 'period': 'M02', 'periodName': 'February', 'value': '1026.32', 'footnotes': [{}]}, {'year': '2013', 'period': 'M01', 'periodName': 'January', 'value': '1026.68', 'footnotes': [{}]}, {'year': '2012', 'period': 'M12', 'periodName': 'December', 'value': '1023.80', 'footnotes': [{}]}, {'year': '2012', 'period': 'M11', 'periodName': 'November', 'value': '1017.36', 'footnotes': [{}]}, {'year': '2012', 'period': 'M10', 'periodName': 'October', 'value': '1012.74', 'footnotes': [{}]}, {'year': '2012', 'period': 'M09', 'periodName': 'September', 'value': '1019.10', 'footnotes': [{}]}, {'year': '2012', 'period': 'M08', 'periodName': 'August', 'value': '1011.60', 'footnotes': [{}]}, {'year': '2012', 'period': 'M07', 'periodName': 'July', 'value': '1014.12', 'footnotes': [{}]}, {'year': '2012', 'period': 'M06', 'periodName': 'June', 'value': '1008.43', 'footnotes': [{}]}, {'year': '2012', 'period': 'M05', 'periodName': 'May', 'value': '1007.35', 'footnotes': [{}]}, {'year': '2012', 'period': 'M04', 'periodName': 'April', 'value': '1004.84', 'footnotes': [{}]}, {'year': '2012', 'period': 'M03', 'periodName': 'March', 'value': '1003.12', 'footnotes': [{}]}, {'year': '2012', 'period': 'M02', 'periodName': 'February', 'value': '1002.69', 'footnotes': [{}]}, {'year': '2012', 'period': 'M01', 'periodName': 'January', 'value': '997.75', 'footnotes': [{}]}, {'year': '2011', 'period': 'M12', 'periodName': 'December', 'value': '996.74', 'footnotes': [{}]}, {'year': '2011', 'period': 'M11', 'periodName': 'November', 'value': '1002.04', 'footnotes': [{}]}, {'year': '2011', 'period': 'M10', 'periodName': 'October', 'value': '1002.04', 'footnotes': [{}]}, {'year': '2011', 'period': 'M09', 'periodName': 'September', 'value': '999.18', 'footnotes': [{}]}, {'year': '2011', 'period': 'M08', 'periodName': 'August', 'value': '995.67', 'footnotes': [{}]}, {'year': '2011', 'period': 'M07', 'periodName': 'July', 'value': '1001.68', 'footnotes': [{}]}, {'year': '2011', 'period': 'M06', 'periodName': 'June', 'value': '991.75', 'footnotes': [{}]}, {'year': '2011', 'period': 'M05', 'periodName': 'May', 'value': '987.82', 'footnotes': [{}]}, {'year': '2011', 'period': 'M04', 'periodName': 'April', 'value': '986.75', 'footnotes': [{}]}, {'year': '2011', 'period': 'M03', 'periodName': 'March', 'value': '980.42', 'footnotes': [{}]}, {'year': '2011', 'period': 'M02', 'periodName': 'February', 'value': '983.89', 'footnotes': [{}]}, {'year': '2011', 'period': 'M01', 'periodName': 'January', 'value': '979.00', 'footnotes': [{}]}, {'year': '2010', 'period': 'M12', 'periodName': 'December', 'value': '973.30', 'footnotes': [{}]}, {'year': '2010', 'period': 'M11', 'periodName': 'November', 'value': '975.80', 'footnotes': [{}]}, {'year': '2010', 'period': 'M10', 'periodName': 'October', 'value': '983.78', 'footnotes': [{}]}, {'year': '2010', 'period': 'M09', 'periodName': 'September', 'value': '976.15', 'footnotes': [{}]}, {'year': '2010', 'period': 'M08', 'periodName': 'August', 'value': '970.31', 'footnotes': [{}]}, {'year': '2010', 'period': 'M07', 'periodName': 'July', 'value': '969.15', 'footnotes': [{}]}, {'year': '2010', 'period': 'M06', 'periodName': 'June', 'value': '962.98', 'footnotes': [{}]}, {'year': '2010', 'period': 'M05', 'periodName': 'May', 'value': '962.28', 'footnotes': [{}]}, {'year': '2010', 'period': 'M04', 'periodName': 'April', 'value': '959.81', 'footnotes': [{}]}, {'year': '2010', 'period': 'M03', 'periodName': 'March', 'value': '959.81', 'footnotes': [{}]}, {'year': '2010', 'period': 'M02', 'periodName': 'February', 'value': '956.12', 'footnotes': [{}]}, {'year': '2010', 'period': 'M01', 'periodName': 'January', 'value': '964.18', 'footnotes': [{}]}]}]}}\n"
     ]
    }
   ],
   "source": [
    "for i in f_names:\n",
    "    with open(i) as json_data:\n",
    "        jl = json.load(json_data)\n",
    "        print(jl)\n",
    "        make_prettydata(jl)"
   ]
  },
  {
   "cell_type": "markdown",
   "metadata": {},
   "source": [
    "Displaying the pretty table."
   ]
  },
  {
   "cell_type": "code",
   "execution_count": 7,
   "metadata": {
    "scrolled": false
   },
   "outputs": [
    {
     "name": "stdout",
     "output_type": "stream",
     "text": [
      "+---------------+------+-----------+---------+\n",
      "|   series id   | year |   period  |  value  |\n",
      "+---------------+------+-----------+---------+\n",
      "| CES3000000011 | 2009 |  December |  918.26 |\n",
      "| CES3000000011 | 2009 |  November |  918.32 |\n",
      "| CES3000000011 | 2009 |  October  |  908.62 |\n",
      "| CES3000000011 | 2009 | September |  906.70 |\n",
      "| CES3000000011 | 2009 |   August  |  903.99 |\n",
      "| CES3000000011 | 2009 |    July   |  898.59 |\n",
      "| CES3000000011 | 2009 |    June   |  890.87 |\n",
      "| CES3000000011 | 2009 |    May    |  887.80 |\n",
      "| CES3000000011 | 2009 |   April   |  891.65 |\n",
      "| CES3000000011 | 2009 |   March   |  887.80 |\n",
      "| CES3000000011 | 2009 |  February |  893.49 |\n",
      "| CES3000000011 | 2009 |  January  |  885.36 |\n",
      "| CES3000000011 | 2008 |  December |  884.83 |\n",
      "| CES3000000011 | 2008 |  November |  890.44 |\n",
      "| CES3000000011 | 2008 |  October  |  890.87 |\n",
      "| CES3000000011 | 2008 | September |  881.50 |\n",
      "| CES3000000011 | 2008 |   August  |  886.98 |\n",
      "| CES3000000011 | 2008 |    July   |  882.99 |\n",
      "| CES3000000011 | 2008 |    June   |  887.60 |\n",
      "| CES3000000011 | 2008 |    May    |  881.60 |\n",
      "| CES3000000011 | 2008 |   April   |  875.20 |\n",
      "| CES3000000011 | 2008 |   March   |  883.19 |\n",
      "| CES3000000011 | 2008 |  February |  873.20 |\n",
      "| CES3000000011 | 2008 |  January  |  868.00 |\n",
      "| CES3000000011 | 2007 |  December |  873.38 |\n",
      "| CES3000000011 | 2007 |  November |  869.37 |\n",
      "| CES3000000011 | 2007 |  October  |  860.64 |\n",
      "| CES3000000011 | 2007 | September |  868.57 |\n",
      "| CES3000000011 | 2007 |   August  |  866.96 |\n",
      "| CES3000000011 | 2007 |    July   |  865.36 |\n",
      "| CES3000000011 | 2007 |    June   |  864.16 |\n",
      "| CES3000000011 | 2007 |    May    |  856.80 |\n",
      "| CES3000000011 | 2007 |   April   |  859.34 |\n",
      "| CES3000000011 | 2007 |   March   |  851.20 |\n",
      "| CES3000000011 | 2007 |  February |  847.34 |\n",
      "| CES3000000011 | 2007 |  January  |  847.60 |\n",
      "| CES3000000011 | 2006 |  December |  849.47 |\n",
      "| CES3000000011 | 2006 |  November |  842.69 |\n",
      "| CES3000000011 | 2006 |  October  |  847.20 |\n",
      "| CES3000000011 | 2006 | September |  839.50 |\n",
      "| CES3000000011 | 2006 |   August  |  835.11 |\n",
      "| CES3000000011 | 2006 |    July   |  838.00 |\n",
      "| CES3000000011 | 2006 |    June   |  835.28 |\n",
      "| CES3000000011 | 2006 |    May    |  829.20 |\n",
      "| CES3000000011 | 2006 |   April   |  829.83 |\n",
      "| CES3000000011 | 2006 |   March   |  823.46 |\n",
      "| CES5500000011 | 2009 |  December |  984.91 |\n",
      "| CES5500000011 | 2009 |  November |  983.81 |\n",
      "| CES5500000011 | 2009 |  October  |  983.56 |\n",
      "| CES5500000011 | 2009 | September |  976.85 |\n",
      "| CES5500000011 | 2009 |   August  |  973.56 |\n",
      "| CES5500000011 | 2009 |    July   |  970.27 |\n",
      "| CES5500000011 | 2009 |    June   |  967.98 |\n",
      "| CES5500000011 | 2009 |    May    |  966.24 |\n",
      "| CES5500000011 | 2009 |   April   |  961.48 |\n",
      "| CES5500000011 | 2009 |   March   |  957.03 |\n",
      "| CES5500000011 | 2009 |  February |  963.74 |\n",
      "| CES5500000011 | 2009 |  January  |  964.48 |\n",
      "| CES5500000011 | 2008 |  December |  959.95 |\n",
      "| CES5500000011 | 2008 |  November |  963.01 |\n",
      "| CES5500000011 | 2008 |  October  |  963.31 |\n",
      "| CES5500000011 | 2008 | September |  963.97 |\n",
      "| CES5500000011 | 2008 |   August  |  961.48 |\n",
      "| CES5500000011 | 2008 |    July   |  960.38 |\n",
      "| CES5500000011 | 2008 |    June   |  954.89 |\n",
      "| CES5500000011 | 2008 |    May    |  960.44 |\n",
      "| CES5500000011 | 2008 |   April   |  956.36 |\n",
      "| CES5500000011 | 2008 |   March   |  951.92 |\n",
      "| CES5500000011 | 2008 |  February |  951.19 |\n",
      "| CES5500000011 | 2008 |  January  |  949.37 |\n",
      "| CES5500000011 | 2007 |  December |  948.67 |\n",
      "| CES5500000011 | 2007 |  November |  942.76 |\n",
      "| CES5500000011 | 2007 |  October  |  941.34 |\n",
      "| CES5500000011 | 2007 | September |  941.70 |\n",
      "| CES5500000011 | 2007 |   August  |  941.72 |\n",
      "| CES5500000011 | 2007 |    July   |  936.59 |\n",
      "| CES5500000011 | 2007 |    June   |  942.82 |\n",
      "| CES5500000011 | 2007 |    May    |  932.21 |\n",
      "| CES5500000011 | 2007 |   April   |  921.65 |\n",
      "| CES5500000011 | 2007 |   March   |  932.57 |\n",
      "| CES5500000011 | 2007 |  February |  924.55 |\n",
      "| CES5500000011 | 2007 |  January  |  921.95 |\n",
      "| CES5500000011 | 2006 |  December |  925.52 |\n",
      "| CES5500000011 | 2006 |  November |  921.59 |\n",
      "| CES5500000011 | 2006 |  October  |  908.85 |\n",
      "| CES5500000011 | 2006 | September |  912.36 |\n",
      "| CES5500000011 | 2006 |   August  |  908.05 |\n",
      "| CES5500000011 | 2006 |    July   |  906.95 |\n",
      "| CES5500000011 | 2006 |    June   |  898.66 |\n",
      "| CES5500000011 | 2006 |    May    |  892.91 |\n",
      "| CES5500000011 | 2006 |   April   |  897.92 |\n",
      "| CES5500000011 | 2006 |   March   |  887.62 |\n",
      "| CES6000000011 | 2009 |  December |  949.90 |\n",
      "| CES6000000011 | 2009 |  November |  953.92 |\n",
      "| CES6000000011 | 2009 |  October  |  949.90 |\n",
      "| CES6000000011 | 2009 | September |  953.05 |\n",
      "| CES6000000011 | 2009 |   August  |  947.10 |\n",
      "| CES6000000011 | 2009 |    July   |  948.15 |\n",
      "| CES6000000011 | 2009 |    June   |  947.10 |\n",
      "| CES6000000011 | 2009 |    May    |  948.05 |\n",
      "| CES6000000011 | 2009 |   April   |  949.46 |\n",
      "| CES6000000011 | 2009 |   March   |  945.95 |\n",
      "| CES6000000011 | 2009 |  February |  942.08 |\n",
      "| CES6000000011 | 2009 |  January  |  943.22 |\n",
      "| CES6000000011 | 2008 |  December |  930.78 |\n",
      "| CES6000000011 | 2008 |  November |  934.56 |\n",
      "| CES6000000011 | 2008 |  October  |  931.73 |\n",
      "| CES6000000011 | 2008 | September |  920.13 |\n",
      "| CES6000000011 | 2008 |   August  |  919.21 |\n",
      "| CES6000000011 | 2008 |    July   |  912.51 |\n",
      "| CES6000000011 | 2008 |    June   |  907.92 |\n",
      "| CES6000000011 | 2008 |    May    |  902.53 |\n",
      "| CES6000000011 | 2008 |   April   |  896.90 |\n",
      "| CES6000000011 | 2008 |   March   |  897.39 |\n",
      "| CES6000000011 | 2008 |  February |  888.10 |\n",
      "| CES6000000011 | 2008 |  January  |  885.28 |\n",
      "| CES6000000011 | 2007 |  December |  883.56 |\n",
      "| CES6000000011 | 2007 |  November |  884.65 |\n",
      "| CES6000000011 | 2007 |  October  |  882.52 |\n",
      "| CES6000000011 | 2007 | September |  879.69 |\n",
      "| CES6000000011 | 2007 |   August  |  878.63 |\n",
      "| CES6000000011 | 2007 |    July   |  876.50 |\n",
      "| CES6000000011 | 2007 |    June   |  879.69 |\n",
      "| CES6000000011 | 2007 |    May    |  871.55 |\n",
      "| CES6000000011 | 2007 |   April   |  866.59 |\n",
      "| CES6000000011 | 2007 |   March   |  864.47 |\n",
      "| CES6000000011 | 2007 |  February |  863.01 |\n",
      "| CES6000000011 | 2007 |  January  |  853.60 |\n",
      "| CES6000000011 | 2006 |  December |  854.91 |\n",
      "| CES6000000011 | 2006 |  November |  849.25 |\n",
      "| CES6000000011 | 2006 |  October  |  840.93 |\n",
      "| CES6000000011 | 2006 | September |  845.71 |\n",
      "| CES6000000011 | 2006 |   August  |  831.52 |\n",
      "| CES6000000011 | 2006 |    July   |  830.37 |\n",
      "| CES6000000011 | 2006 |    June   |  833.54 |\n",
      "| CES6000000011 | 2006 |    May    |  821.34 |\n",
      "| CES6000000011 | 2006 |   April   |  827.55 |\n",
      "| CES6000000011 | 2006 |   March   |  819.59 |\n",
      "| CES3000000011 | 2018 |  December | 1117.80 |\n",
      "| CES3000000011 | 2018 |  November | 1111.39 |\n",
      "| CES3000000011 | 2018 |  October  | 1108.13 |\n",
      "| CES3000000011 | 2018 | September | 1110.03 |\n",
      "| CES3000000011 | 2018 |   August  | 1111.51 |\n",
      "| CES3000000011 | 2018 |    July   | 1108.23 |\n",
      "| CES3000000011 | 2018 |    June   | 1105.53 |\n",
      "| CES3000000011 | 2018 |    May    | 1100.38 |\n",
      "| CES3000000011 | 2018 |   April   | 1104.95 |\n",
      "| CES3000000011 | 2018 |   March   | 1099.80 |\n",
      "| CES3000000011 | 2018 |  February | 1100.44 |\n",
      "| CES3000000011 | 2018 |  January  | 1095.07 |\n",
      "| CES3000000011 | 2017 |  December | 1093.03 |\n",
      "| CES3000000011 | 2017 |  November | 1095.93 |\n",
      "| CES3000000011 | 2017 |  October  | 1093.26 |\n",
      "| CES3000000011 | 2017 | September | 1089.36 |\n",
      "| CES3000000011 | 2017 |   August  | 1085.69 |\n",
      "| CES3000000011 | 2017 |    July   | 1091.21 |\n",
      "| CES3000000011 | 2017 |    June   | 1083.65 |\n",
      "| CES3000000011 | 2017 |    May    | 1079.77 |\n",
      "| CES3000000011 | 2017 |   April   | 1083.24 |\n",
      "| CES3000000011 | 2017 |   March   | 1071.84 |\n",
      "| CES3000000011 | 2017 |  February | 1074.48 |\n",
      "| CES3000000011 | 2017 |  January  | 1074.26 |\n",
      "| CES3000000011 | 2016 |  December | 1070.82 |\n",
      "| CES3000000011 | 2016 |  November | 1065.75 |\n",
      "| CES3000000011 | 2016 |  October  | 1069.19 |\n",
      "| CES3000000011 | 2016 | September | 1063.08 |\n",
      "| CES3000000011 | 2016 |   August  | 1060.88 |\n",
      "| CES3000000011 | 2016 |    July   | 1059.01 |\n",
      "| CES3000000011 | 2016 |    June   | 1057.39 |\n",
      "| CES3000000011 | 2016 |    May    | 1059.17 |\n",
      "| CES3000000011 | 2016 |   April   | 1055.09 |\n",
      "| CES3000000011 | 2016 |   March   | 1048.03 |\n",
      "| CES3000000011 | 2016 |  February | 1044.36 |\n",
      "| CES3000000011 | 2016 |  January  | 1043.55 |\n",
      "| CES3000000011 | 2015 |  December | 1039.48 |\n",
      "| CES3000000011 | 2015 |  November | 1038.26 |\n",
      "| CES3000000011 | 2015 |  October  | 1035.41 |\n",
      "| CES3000000011 | 2015 | September | 1031.24 |\n",
      "| CES3000000011 | 2015 |   August  | 1037.63 |\n",
      "| CES3000000011 | 2015 |    July   | 1029.38 |\n",
      "| CES3000000011 | 2015 |    June   | 1023.20 |\n",
      "| CES3000000011 | 2015 |    May    | 1023.61 |\n",
      "| CES3000000011 | 2015 |   April   | 1024.49 |\n",
      "| CES3000000011 | 2015 |   March   | 1026.59 |\n",
      "| CES3000000011 | 2015 |  February | 1026.64 |\n",
      "| CES3000000011 | 2015 |  January  | 1022.91 |\n",
      "| CES3000000011 | 2014 |  December | 1021.72 |\n",
      "| CES3000000011 | 2014 |  November | 1025.03 |\n",
      "| CES3000000011 | 2014 |  October  | 1021.31 |\n",
      "| CES3000000011 | 2014 | September | 1018.03 |\n",
      "| CES3000000011 | 2014 |   August  | 1020.08 |\n",
      "| CES3000000011 | 2014 |    July   | 1015.96 |\n",
      "| CES3000000011 | 2014 |    June   | 1020.51 |\n",
      "| CES3000000011 | 2014 |    May    | 1017.23 |\n",
      "| CES3000000011 | 2014 |   April   | 1010.64 |\n",
      "| CES3000000011 | 2014 |   March   | 1013.93 |\n",
      "| CES3000000011 | 2014 |  February | 1006.51 |\n",
      "| CES3000000011 | 2014 |  January  | 1004.48 |\n",
      "| CES3000000011 | 2013 |  December | 1006.96 |\n",
      "| CES3000000011 | 2013 |  November | 1007.78 |\n",
      "| CES3000000011 | 2013 |  October  |  998.78 |\n",
      "| CES3000000011 | 2013 | September | 1001.23 |\n",
      "| CES3000000011 | 2013 |   August  |  997.96 |\n",
      "| CES3000000011 | 2013 |    July   |  992.27 |\n",
      "| CES3000000011 | 2013 |    June   |  993.89 |\n",
      "| CES3000000011 | 2013 |    May    |  989.82 |\n",
      "| CES3000000011 | 2013 |   April   |  986.16 |\n",
      "| CES3000000011 | 2013 |   March   |  985.73 |\n",
      "| CES3000000011 | 2013 |  February |  984.91 |\n",
      "| CES3000000011 | 2013 |  January  |  976.02 |\n",
      "| CES3000000011 | 2012 |  December |  980.46 |\n",
      "| CES3000000011 | 2012 |  November |  973.99 |\n",
      "| CES3000000011 | 2012 |  October  |  970.75 |\n",
      "| CES3000000011 | 2012 | September |  972.37 |\n",
      "| CES3000000011 | 2012 |   August  |  970.34 |\n",
      "| CES3000000011 | 2012 |    July   |  977.16 |\n",
      "| CES3000000011 | 2012 |    June   |  973.14 |\n",
      "| CES3000000011 | 2012 |    May    |  966.28 |\n",
      "| CES3000000011 | 2012 |   April   |  977.16 |\n",
      "| CES3000000011 | 2012 |   March   |  971.51 |\n",
      "| CES3000000011 | 2012 |  February |  972.67 |\n",
      "| CES3000000011 | 2012 |  January  |  973.90 |\n",
      "| CES3000000011 | 2011 |  December |  967.50 |\n",
      "| CES3000000011 | 2011 |  November |  958.29 |\n",
      "| CES3000000011 | 2011 |  October  |  972.32 |\n",
      "| CES3000000011 | 2011 | September |  957.53 |\n",
      "| CES3000000011 | 2011 |   August  |  957.08 |\n",
      "| CES3000000011 | 2011 |    July   |  959.90 |\n",
      "| CES3000000011 | 2011 |    June   |  956.67 |\n",
      "| CES3000000011 | 2011 |    May    |  959.45 |\n",
      "| CES3000000011 | 2011 |   April   |  953.84 |\n",
      "| CES3000000011 | 2011 |   March   |  950.61 |\n",
      "| CES3000000011 | 2011 |  February |  951.75 |\n",
      "| CES3000000011 | 2011 |  January  |  952.29 |\n",
      "| CES3000000011 | 2010 |  December |  949.00 |\n",
      "| CES3000000011 | 2010 |  November |  945.36 |\n",
      "| CES3000000011 | 2010 |  October  |  950.94 |\n",
      "| CES3000000011 | 2010 | September |  946.98 |\n",
      "| CES3000000011 | 2010 |   August  |  944.23 |\n",
      "| CES3000000011 | 2010 |    July   |  939.07 |\n",
      "| CES3000000011 | 2010 |    June   |  931.52 |\n",
      "| CES3000000011 | 2010 |    May    |  944.06 |\n",
      "| CES3000000011 | 2010 |   April   |  933.04 |\n",
      "| CES3000000011 | 2010 |   March   |  926.80 |\n",
      "| CES3000000011 | 2010 |  February |  919.91 |\n",
      "| CES3000000011 | 2010 |  January  |  925.60 |\n",
      "| CES5500000011 | 2018 |  December | 1329.91 |\n",
      "| CES5500000011 | 2018 |  November | 1327.66 |\n",
      "| CES5500000011 | 2018 |  October  | 1321.49 |\n",
      "| CES5500000011 | 2018 | September | 1313.25 |\n",
      "| CES5500000011 | 2018 |   August  | 1312.99 |\n",
      "| CES5500000011 | 2018 |    July   | 1305.38 |\n",
      "| CES5500000011 | 2018 |    June   | 1307.44 |\n",
      "| CES5500000011 | 2018 |    May    | 1303.59 |\n",
      "| CES5500000011 | 2018 |   April   | 1295.70 |\n",
      "| CES5500000011 | 2018 |   March   | 1289.63 |\n",
      "| CES5500000011 | 2018 |  February | 1287.80 |\n",
      "| CES5500000011 | 2018 |  January  | 1287.05 |\n",
      "| CES5500000011 | 2017 |  December | 1279.53 |\n",
      "| CES5500000011 | 2017 |  November | 1268.62 |\n",
      "| CES5500000011 | 2017 |  October  | 1264.50 |\n",
      "| CES5500000011 | 2017 | September | 1255.13 |\n",
      "| CES5500000011 | 2017 |   August  | 1250.63 |\n",
      "| CES5500000011 | 2017 |    July   | 1243.18 |\n",
      "| CES5500000011 | 2017 |    June   | 1243.81 |\n",
      "| CES5500000011 | 2017 |    May    | 1230.09 |\n",
      "| CES5500000011 | 2017 |   April   | 1230.09 |\n",
      "| CES5500000011 | 2017 |   March   | 1221.58 |\n",
      "| CES5500000011 | 2017 |  February | 1228.59 |\n",
      "| CES5500000011 | 2017 |  January  | 1213.09 |\n",
      "| CES5500000011 | 2016 |  December | 1222.61 |\n",
      "| CES5500000011 | 2016 |  November | 1221.86 |\n",
      "| CES5500000011 | 2016 |  October  | 1214.38 |\n",
      "| CES5500000011 | 2016 | September | 1221.38 |\n",
      "| CES5500000011 | 2016 |   August  | 1218.38 |\n",
      "| CES5500000011 | 2016 |    July   | 1218.62 |\n",
      "| CES5500000011 | 2016 |    June   | 1207.88 |\n",
      "| CES5500000011 | 2016 |    May    | 1206.75 |\n",
      "| CES5500000011 | 2016 |   April   | 1212.81 |\n",
      "| CES5500000011 | 2016 |   March   | 1209.59 |\n",
      "| CES5500000011 | 2016 |  February | 1204.33 |\n",
      "| CES5500000011 | 2016 |  January  | 1210.73 |\n",
      "| CES5500000011 | 2015 |  December | 1199.24 |\n",
      "| CES5500000011 | 2015 |  November | 1192.30 |\n",
      "| CES5500000011 | 2015 |  October  | 1192.30 |\n",
      "| CES5500000011 | 2015 | September | 1193.96 |\n",
      "| CES5500000011 | 2015 |   August  | 1186.28 |\n",
      "| CES5500000011 | 2015 |    July   | 1184.40 |\n",
      "| CES5500000011 | 2015 |    June   | 1190.94 |\n",
      "| CES5500000011 | 2015 |    May    | 1185.90 |\n",
      "| CES5500000011 | 2015 |   April   | 1179.51 |\n",
      "| CES5500000011 | 2015 |   March   | 1171.88 |\n",
      "| CES5500000011 | 2015 |  February | 1166.13 |\n",
      "| CES5500000011 | 2015 |  January  | 1165.13 |\n",
      "| CES5500000011 | 2014 |  December | 1160.90 |\n",
      "| CES5500000011 | 2014 |  November | 1160.90 |\n",
      "| CES5500000011 | 2014 |  October  | 1153.69 |\n",
      "| CES5500000011 | 2014 | September | 1152.57 |\n",
      "| CES5500000011 | 2014 |   August  | 1151.82 |\n",
      "| CES5500000011 | 2014 |    July   | 1141.57 |\n",
      "| CES5500000011 | 2014 |    June   | 1142.78 |\n",
      "| CES5500000011 | 2014 |    May    | 1137.58 |\n",
      "| CES5500000011 | 2014 |   April   | 1133.78 |\n",
      "| CES5500000011 | 2014 |   March   | 1136.46 |\n",
      "| CES5500000011 | 2014 |  February | 1132.00 |\n",
      "| CES5500000011 | 2014 |  January  | 1124.87 |\n",
      "| CES5500000011 | 2013 |  December | 1122.95 |\n",
      "| CES5500000011 | 2013 |  November | 1127.53 |\n",
      "| CES5500000011 | 2013 |  October  | 1124.50 |\n",
      "| CES5500000011 | 2013 | September | 1123.76 |\n",
      "| CES5500000011 | 2013 |   August  | 1126.79 |\n",
      "| CES5500000011 | 2013 |    July   | 1120.73 |\n",
      "| CES5500000011 | 2013 |    June   | 1124.22 |\n",
      "| CES5500000011 | 2013 |    May    | 1115.60 |\n",
      "| CES5500000011 | 2013 |   April   | 1117.49 |\n",
      "| CES5500000011 | 2013 |   March   | 1112.65 |\n",
      "| CES5500000011 | 2013 |  February | 1115.26 |\n",
      "| CES5500000011 | 2013 |  January  | 1106.30 |\n",
      "| CES5500000011 | 2012 |  December | 1110.42 |\n",
      "| CES5500000011 | 2012 |  November | 1106.69 |\n",
      "| CES5500000011 | 2012 |  October  | 1098.52 |\n",
      "| CES5500000011 | 2012 | September | 1098.11 |\n",
      "| CES5500000011 | 2012 |   August  | 1085.92 |\n",
      "| CES5500000011 | 2012 |    July   | 1084.06 |\n",
      "| CES5500000011 | 2012 |    June   | 1080.35 |\n",
      "| CES5500000011 | 2012 |    May    | 1078.92 |\n",
      "| CES5500000011 | 2012 |   April   | 1081.03 |\n",
      "| CES5500000011 | 2012 |   March   | 1078.34 |\n",
      "| CES5500000011 | 2012 |  February | 1072.00 |\n",
      "| CES5500000011 | 2012 |  January  | 1069.64 |\n",
      "| CES5500000011 | 2011 |  December | 1057.46 |\n",
      "| CES5500000011 | 2011 |  November | 1060.66 |\n",
      "| CES5500000011 | 2011 |  October  | 1057.30 |\n",
      "| CES5500000011 | 2011 | September | 1053.38 |\n",
      "| CES5500000011 | 2011 |   August  | 1035.83 |\n",
      "| CES5500000011 | 2011 |    July   | 1042.34 |\n",
      "| CES5500000011 | 2011 |    June   | 1038.43 |\n",
      "| CES5500000011 | 2011 |    May    | 1032.30 |\n",
      "| CES5500000011 | 2011 |   April   | 1030.44 |\n",
      "| CES5500000011 | 2011 |   March   | 1027.30 |\n",
      "| CES5500000011 | 2011 |  February | 1024.33 |\n",
      "| CES5500000011 | 2011 |  January  | 1018.98 |\n",
      "| CES5500000011 | 2010 |  December | 1022.11 |\n",
      "| CES5500000011 | 2010 |  November | 1018.02 |\n",
      "| CES5500000011 | 2010 |  October  | 1016.91 |\n",
      "| CES5500000011 | 2010 | September | 1011.95 |\n",
      "| CES5500000011 | 2010 |   August  | 1011.58 |\n",
      "| CES5500000011 | 2010 |    July   | 1012.32 |\n",
      "| CES5500000011 | 2010 |    June   | 1012.21 |\n",
      "| CES5500000011 | 2010 |    May    | 1007.51 |\n",
      "| CES5500000011 | 2010 |   April   | 1003.31 |\n",
      "| CES5500000011 | 2010 |   March   | 1002.70 |\n",
      "| CES5500000011 | 2010 |  February |  993.60 |\n",
      "| CES5500000011 | 2010 |  January  |  992.86 |\n",
      "| CES6000000011 | 2018 |  December | 1190.94 |\n",
      "| CES6000000011 | 2018 |  November | 1188.77 |\n",
      "| CES6000000011 | 2018 |  October  | 1190.62 |\n",
      "| CES6000000011 | 2018 | September | 1184.80 |\n",
      "| CES6000000011 | 2018 |   August  | 1184.80 |\n",
      "| CES6000000011 | 2018 |    July   | 1180.48 |\n",
      "| CES6000000011 | 2018 |    June   | 1176.50 |\n",
      "| CES6000000011 | 2018 |    May    | 1172.88 |\n",
      "| CES6000000011 | 2018 |   April   | 1165.31 |\n",
      "| CES6000000011 | 2018 |   March   | 1167.45 |\n",
      "| CES6000000011 | 2018 |  February | 1162.02 |\n",
      "| CES6000000011 | 2018 |  January  | 1152.39 |\n",
      "| CES6000000011 | 2017 |  December | 1153.08 |\n",
      "| CES6000000011 | 2017 |  November | 1151.95 |\n",
      "| CES6000000011 | 2017 |  October  | 1145.52 |\n",
      "| CES6000000011 | 2017 | September | 1148.04 |\n",
      "| CES6000000011 | 2017 |   August  | 1141.20 |\n",
      "| CES6000000011 | 2017 |    July   | 1142.20 |\n",
      "| CES6000000011 | 2017 |    June   | 1138.96 |\n",
      "| CES6000000011 | 2017 |    May    | 1138.23 |\n",
      "| CES6000000011 | 2017 |   April   | 1140.04 |\n",
      "| CES6000000011 | 2017 |   March   | 1135.08 |\n",
      "| CES6000000011 | 2017 |  February | 1132.10 |\n",
      "| CES6000000011 | 2017 |  January  | 1129.44 |\n",
      "| CES6000000011 | 2016 |  December | 1123.56 |\n",
      "| CES6000000011 | 2016 |  November | 1120.68 |\n",
      "| CES6000000011 | 2016 |  October  | 1122.71 |\n",
      "| CES6000000011 | 2016 | September | 1118.74 |\n",
      "| CES6000000011 | 2016 |   August  | 1114.20 |\n",
      "| CES6000000011 | 2016 |    July   | 1116.57 |\n",
      "| CES6000000011 | 2016 |    June   | 1112.04 |\n",
      "| CES6000000011 | 2016 |    May    | 1111.16 |\n",
      "| CES6000000011 | 2016 |   April   | 1111.34 |\n",
      "| CES6000000011 | 2016 |   March   | 1103.94 |\n",
      "| CES6000000011 | 2016 |  February | 1103.22 |\n",
      "| CES6000000011 | 2016 |  January  | 1107.51 |\n",
      "| CES6000000011 | 2015 |  December | 1097.95 |\n",
      "| CES6000000011 | 2015 |  November | 1097.80 |\n",
      "| CES6000000011 | 2015 |  October  | 1101.71 |\n",
      "| CES6000000011 | 2015 | September | 1093.47 |\n",
      "| CES6000000011 | 2015 |   August  | 1092.88 |\n",
      "| CES6000000011 | 2015 |    July   | 1089.98 |\n",
      "| CES6000000011 | 2015 |    June   | 1088.53 |\n",
      "| CES6000000011 | 2015 |    May    | 1087.81 |\n",
      "| CES6000000011 | 2015 |   April   | 1081.92 |\n",
      "| CES6000000011 | 2015 |   March   | 1078.31 |\n",
      "| CES6000000011 | 2015 |  February | 1077.67 |\n",
      "| CES6000000011 | 2015 |  January  | 1076.59 |\n",
      "| CES6000000011 | 2014 |  December | 1074.84 |\n",
      "| CES6000000011 | 2014 |  November | 1073.03 |\n",
      "| CES6000000011 | 2014 |  October  | 1069.76 |\n",
      "| CES6000000011 | 2014 | September | 1065.00 |\n",
      "| CES6000000011 | 2014 |   August  | 1066.09 |\n",
      "| CES6000000011 | 2014 |    July   | 1062.11 |\n",
      "| CES6000000011 | 2014 |    June   | 1062.50 |\n",
      "| CES6000000011 | 2014 |    May    | 1061.05 |\n",
      "| CES6000000011 | 2014 |   April   | 1057.06 |\n",
      "| CES6000000011 | 2014 |   March   | 1054.88 |\n",
      "| CES6000000011 | 2014 |  February | 1049.79 |\n",
      "| CES6000000011 | 2014 |  January  | 1046.90 |\n",
      "| CES6000000011 | 2013 |  December | 1042.21 |\n",
      "| CES6000000011 | 2013 |  November | 1042.92 |\n",
      "| CES6000000011 | 2013 |  October  | 1036.43 |\n",
      "| CES6000000011 | 2013 | September | 1034.99 |\n",
      "| CES6000000011 | 2013 |   August  | 1034.27 |\n",
      "| CES6000000011 | 2013 |    July   | 1028.52 |\n",
      "| CES6000000011 | 2013 |    June   | 1031.38 |\n",
      "| CES6000000011 | 2013 |    May    | 1029.93 |\n",
      "| CES6000000011 | 2013 |   April   | 1026.72 |\n",
      "| CES6000000011 | 2013 |   March   | 1028.13 |\n",
      "| CES6000000011 | 2013 |  February | 1026.32 |\n",
      "| CES6000000011 | 2013 |  January  | 1026.68 |\n",
      "| CES6000000011 | 2012 |  December | 1023.80 |\n",
      "| CES6000000011 | 2012 |  November | 1017.36 |\n",
      "| CES6000000011 | 2012 |  October  | 1012.74 |\n",
      "| CES6000000011 | 2012 | September | 1019.10 |\n",
      "| CES6000000011 | 2012 |   August  | 1011.60 |\n",
      "| CES6000000011 | 2012 |    July   | 1014.12 |\n",
      "| CES6000000011 | 2012 |    June   | 1008.43 |\n",
      "| CES6000000011 | 2012 |    May    | 1007.35 |\n",
      "| CES6000000011 | 2012 |   April   | 1004.84 |\n",
      "| CES6000000011 | 2012 |   March   | 1003.12 |\n",
      "| CES6000000011 | 2012 |  February | 1002.69 |\n",
      "| CES6000000011 | 2012 |  January  |  997.75 |\n",
      "| CES6000000011 | 2011 |  December |  996.74 |\n",
      "| CES6000000011 | 2011 |  November | 1002.04 |\n",
      "| CES6000000011 | 2011 |  October  | 1002.04 |\n",
      "| CES6000000011 | 2011 | September |  999.18 |\n",
      "| CES6000000011 | 2011 |   August  |  995.67 |\n",
      "| CES6000000011 | 2011 |    July   | 1001.68 |\n",
      "| CES6000000011 | 2011 |    June   |  991.75 |\n",
      "| CES6000000011 | 2011 |    May    |  987.82 |\n",
      "| CES6000000011 | 2011 |   April   |  986.75 |\n",
      "| CES6000000011 | 2011 |   March   |  980.42 |\n",
      "| CES6000000011 | 2011 |  February |  983.89 |\n",
      "| CES6000000011 | 2011 |  January  |  979.00 |\n",
      "| CES6000000011 | 2010 |  December |  973.30 |\n",
      "| CES6000000011 | 2010 |  November |  975.80 |\n",
      "| CES6000000011 | 2010 |  October  |  983.78 |\n",
      "| CES6000000011 | 2010 | September |  976.15 |\n",
      "| CES6000000011 | 2010 |   August  |  970.31 |\n",
      "| CES6000000011 | 2010 |    July   |  969.15 |\n",
      "| CES6000000011 | 2010 |    June   |  962.98 |\n",
      "| CES6000000011 | 2010 |    May    |  962.28 |\n",
      "| CES6000000011 | 2010 |   April   |  959.81 |\n",
      "| CES6000000011 | 2010 |   March   |  959.81 |\n",
      "| CES6000000011 | 2010 |  February |  956.12 |\n",
      "| CES6000000011 | 2010 |  January  |  964.18 |\n",
      "+---------------+------+-----------+---------+\n"
     ]
    }
   ],
   "source": [
    "print(x)"
   ]
  },
  {
   "cell_type": "markdown",
   "metadata": {},
   "source": [
    "### Displaying the retrieved Bls data as a organized dataframe."
   ]
  },
  {
   "cell_type": "code",
   "execution_count": 8,
   "metadata": {},
   "outputs": [
    {
     "name": "stdout",
     "output_type": "stream",
     "text": [
      "         series id  year     period    value\n",
      "0    CES3000000011  2009   December   918.26\n",
      "1    CES3000000011  2009   November   918.32\n",
      "2    CES3000000011  2009    October   908.62\n",
      "3    CES3000000011  2009  September   906.70\n",
      "4    CES3000000011  2009     August   903.99\n",
      "5    CES3000000011  2009       July   898.59\n",
      "6    CES3000000011  2009       June   890.87\n",
      "7    CES3000000011  2009        May   887.80\n",
      "8    CES3000000011  2009      April   891.65\n",
      "9    CES3000000011  2009      March   887.80\n",
      "10   CES3000000011  2009   February   893.49\n",
      "11   CES3000000011  2009    January   885.36\n",
      "12   CES3000000011  2008   December   884.83\n",
      "13   CES3000000011  2008   November   890.44\n",
      "14   CES3000000011  2008    October   890.87\n",
      "15   CES3000000011  2008  September   881.50\n",
      "16   CES3000000011  2008     August   886.98\n",
      "17   CES3000000011  2008       July   882.99\n",
      "18   CES3000000011  2008       June   887.60\n",
      "19   CES3000000011  2008        May   881.60\n",
      "20   CES3000000011  2008      April   875.20\n",
      "21   CES3000000011  2008      March   883.19\n",
      "22   CES3000000011  2008   February   873.20\n",
      "23   CES3000000011  2008    January   868.00\n",
      "24   CES3000000011  2007   December   873.38\n",
      "25   CES3000000011  2007   November   869.37\n",
      "26   CES3000000011  2007    October   860.64\n",
      "27   CES3000000011  2007  September   868.57\n",
      "28   CES3000000011  2007     August   866.96\n",
      "29   CES3000000011  2007       July   865.36\n",
      "..             ...   ...        ...      ...\n",
      "432  CES6000000011  2012       June  1008.43\n",
      "433  CES6000000011  2012        May  1007.35\n",
      "434  CES6000000011  2012      April  1004.84\n",
      "435  CES6000000011  2012      March  1003.12\n",
      "436  CES6000000011  2012   February  1002.69\n",
      "437  CES6000000011  2012    January   997.75\n",
      "438  CES6000000011  2011   December   996.74\n",
      "439  CES6000000011  2011   November  1002.04\n",
      "440  CES6000000011  2011    October  1002.04\n",
      "441  CES6000000011  2011  September   999.18\n",
      "442  CES6000000011  2011     August   995.67\n",
      "443  CES6000000011  2011       July  1001.68\n",
      "444  CES6000000011  2011       June   991.75\n",
      "445  CES6000000011  2011        May   987.82\n",
      "446  CES6000000011  2011      April   986.75\n",
      "447  CES6000000011  2011      March   980.42\n",
      "448  CES6000000011  2011   February   983.89\n",
      "449  CES6000000011  2011    January   979.00\n",
      "450  CES6000000011  2010   December   973.30\n",
      "451  CES6000000011  2010   November   975.80\n",
      "452  CES6000000011  2010    October   983.78\n",
      "453  CES6000000011  2010  September   976.15\n",
      "454  CES6000000011  2010     August   970.31\n",
      "455  CES6000000011  2010       July   969.15\n",
      "456  CES6000000011  2010       June   962.98\n",
      "457  CES6000000011  2010        May   962.28\n",
      "458  CES6000000011  2010      April   959.81\n",
      "459  CES6000000011  2010      March   959.81\n",
      "460  CES6000000011  2010   February   956.12\n",
      "461  CES6000000011  2010    January   964.18\n",
      "\n",
      "[462 rows x 4 columns]\n"
     ]
    }
   ],
   "source": [
    "print(prettydf)"
   ]
  },
  {
   "cell_type": "code",
   "execution_count": 9,
   "metadata": {},
   "outputs": [],
   "source": [
    "prettydf['value'] = prettydf['value'].astype(float)"
   ]
  },
  {
   "cell_type": "code",
   "execution_count": 10,
   "metadata": {},
   "outputs": [],
   "source": [
    "from datetime import datetime"
   ]
  },
  {
   "cell_type": "code",
   "execution_count": 11,
   "metadata": {},
   "outputs": [],
   "source": [
    "xx=[ ]\n",
    "for i in range(len(prettydf)):\n",
    "    s = prettydf['year'][i]+\", \"+prettydf['period'][i]\n",
    "    d = datetime.strptime(s, '%Y, %B')\n",
    "    xx.append(d)\n",
    "prettydf['time']=pd.Series(xx)"
   ]
  },
  {
   "cell_type": "code",
   "execution_count": 12,
   "metadata": {},
   "outputs": [],
   "source": [
    "prettydf['value'] = prettydf['value'].astype(float)\n",
    "prettydf['time'] = pd.to_datetime(prettydf['time'], unit='s')"
   ]
  },
  {
   "cell_type": "code",
   "execution_count": 13,
   "metadata": {},
   "outputs": [
    {
     "data": {
      "text/html": [
       "<div>\n",
       "<style scoped>\n",
       "    .dataframe tbody tr th:only-of-type {\n",
       "        vertical-align: middle;\n",
       "    }\n",
       "\n",
       "    .dataframe tbody tr th {\n",
       "        vertical-align: top;\n",
       "    }\n",
       "\n",
       "    .dataframe thead th {\n",
       "        text-align: right;\n",
       "    }\n",
       "</style>\n",
       "<table border=\"1\" class=\"dataframe\">\n",
       "  <thead>\n",
       "    <tr style=\"text-align: right;\">\n",
       "      <th></th>\n",
       "      <th>series id</th>\n",
       "      <th>year</th>\n",
       "      <th>period</th>\n",
       "      <th>value</th>\n",
       "      <th>time</th>\n",
       "    </tr>\n",
       "  </thead>\n",
       "  <tbody>\n",
       "    <tr>\n",
       "      <th>0</th>\n",
       "      <td>CES3000000011</td>\n",
       "      <td>2009</td>\n",
       "      <td>December</td>\n",
       "      <td>918.26</td>\n",
       "      <td>2009-12-01</td>\n",
       "    </tr>\n",
       "    <tr>\n",
       "      <th>1</th>\n",
       "      <td>CES3000000011</td>\n",
       "      <td>2009</td>\n",
       "      <td>November</td>\n",
       "      <td>918.32</td>\n",
       "      <td>2009-11-01</td>\n",
       "    </tr>\n",
       "    <tr>\n",
       "      <th>2</th>\n",
       "      <td>CES3000000011</td>\n",
       "      <td>2009</td>\n",
       "      <td>October</td>\n",
       "      <td>908.62</td>\n",
       "      <td>2009-10-01</td>\n",
       "    </tr>\n",
       "    <tr>\n",
       "      <th>3</th>\n",
       "      <td>CES3000000011</td>\n",
       "      <td>2009</td>\n",
       "      <td>September</td>\n",
       "      <td>906.70</td>\n",
       "      <td>2009-09-01</td>\n",
       "    </tr>\n",
       "    <tr>\n",
       "      <th>4</th>\n",
       "      <td>CES3000000011</td>\n",
       "      <td>2009</td>\n",
       "      <td>August</td>\n",
       "      <td>903.99</td>\n",
       "      <td>2009-08-01</td>\n",
       "    </tr>\n",
       "  </tbody>\n",
       "</table>\n",
       "</div>"
      ],
      "text/plain": [
       "       series id  year     period   value       time\n",
       "0  CES3000000011  2009   December  918.26 2009-12-01\n",
       "1  CES3000000011  2009   November  918.32 2009-11-01\n",
       "2  CES3000000011  2009    October  908.62 2009-10-01\n",
       "3  CES3000000011  2009  September  906.70 2009-09-01\n",
       "4  CES3000000011  2009     August  903.99 2009-08-01"
      ]
     },
     "execution_count": 13,
     "metadata": {},
     "output_type": "execute_result"
    }
   ],
   "source": [
    "prettydf.head()"
   ]
  },
  {
   "cell_type": "code",
   "execution_count": 14,
   "metadata": {},
   "outputs": [],
   "source": [
    "import seaborn as sns"
   ]
  },
  {
   "cell_type": "code",
   "execution_count": 15,
   "metadata": {},
   "outputs": [
    {
     "data": {
      "image/png": "[encoded data removed]",
      "text/plain": [
       "<Figure size 432x288 with 1 Axes>"
      ]
     },
     "metadata": {
      "needs_background": "light"
     },
     "output_type": "display_data"
    }
   ],
   "source": [
    "ax = sns.swarmplot(x='time', y='value', data=prettydf,hue='series id')"
   ]
  },
  {
   "cell_type": "markdown",
   "metadata": {},
   "source": [
    "## The plot clearly shows that the weekly earnings of all 3 industries namely ,financial activities,manufacturing and Professional and business services are all increasing steadily over the years. Also, the weekly earnings of employees in the financial activities is the highest among all the 3 sectors, followed by employees in the professional and business services."
   ]
  },
  {
   "cell_type": "markdown",
   "metadata": {},
   "source": [
    "2.\tDownload “Player_Attributes.csv” from eLearning. \n",
    "Check the number of unique values of the two IDs “player_fifa_api_id” and “player_api_id”. \n",
    "It turns out that the two numbers do not match. \n",
    "What does this mean? Write a program to find the id combinations where “player_api_id” has multiple matches of “player_fifa_api_id”."
   ]
  },
  {
   "cell_type": "code",
   "execution_count": 16,
   "metadata": {},
   "outputs": [],
   "source": [
    "pl_at = pd.read_csv('Player_Attributes.csv')"
   ]
  },
  {
   "cell_type": "code",
   "execution_count": 17,
   "metadata": {},
   "outputs": [
    {
     "name": "stdout",
     "output_type": "stream",
     "text": [
      "<class 'pandas.core.frame.DataFrame'>\n",
      "RangeIndex: 183978 entries, 0 to 183977\n",
      "Data columns (total 43 columns):\n",
      "Unnamed: 0             183978 non-null int64\n",
      "id                     183978 non-null int64\n",
      "player_fifa_api_id     183978 non-null int64\n",
      "player_api_id          183978 non-null int64\n",
      "date                   183978 non-null object\n",
      "overall_rating         183142 non-null float64\n",
      "potential              183142 non-null float64\n",
      "preferred_foot         183142 non-null object\n",
      "attacking_work_rate    180748 non-null object\n",
      "defensive_work_rate    183142 non-null object\n",
      "crossing               183142 non-null float64\n",
      "finishing              183142 non-null float64\n",
      "heading_accuracy       183142 non-null float64\n",
      "short_passing          183142 non-null float64\n",
      "volleys                181265 non-null float64\n",
      "dribbling              183142 non-null float64\n",
      "curve                  181265 non-null float64\n",
      "free_kick_accuracy     183142 non-null float64\n",
      "long_passing           183142 non-null float64\n",
      "ball_control           183142 non-null float64\n",
      "acceleration           183142 non-null float64\n",
      "sprint_speed           183142 non-null float64\n",
      "agility                181265 non-null float64\n",
      "reactions              183142 non-null float64\n",
      "balance                181265 non-null float64\n",
      "shot_power             183142 non-null float64\n",
      "jumping                181265 non-null float64\n",
      "stamina                183142 non-null float64\n",
      "strength               183142 non-null float64\n",
      "long_shots             183142 non-null float64\n",
      "aggression             183142 non-null float64\n",
      "interceptions          183142 non-null float64\n",
      "positioning            183142 non-null float64\n",
      "vision                 181265 non-null float64\n",
      "penalties              183142 non-null float64\n",
      "marking                183142 non-null float64\n",
      "standing_tackle        183142 non-null float64\n",
      "sliding_tackle         181265 non-null float64\n",
      "gk_diving              183142 non-null float64\n",
      "gk_handling            183142 non-null float64\n",
      "gk_kicking             183142 non-null float64\n",
      "gk_positioning         183142 non-null float64\n",
      "gk_reflexes            183142 non-null float64\n",
      "dtypes: float64(35), int64(4), object(4)\n",
      "memory usage: 60.4+ MB\n"
     ]
    }
   ],
   "source": [
    "pl_at.info()"
   ]
  },
  {
   "cell_type": "markdown",
   "metadata": {},
   "source": [
    "### Checking for no. of unique values in both the columns."
   ]
  },
  {
   "cell_type": "code",
   "execution_count": 18,
   "metadata": {},
   "outputs": [
    {
     "data": {
      "text/plain": [
       "11062"
      ]
     },
     "execution_count": 18,
     "metadata": {},
     "output_type": "execute_result"
    }
   ],
   "source": [
    "pl_at['player_fifa_api_id'].nunique()"
   ]
  },
  {
   "cell_type": "code",
   "execution_count": 19,
   "metadata": {},
   "outputs": [
    {
     "data": {
      "text/plain": [
       "11060"
      ]
     },
     "execution_count": 19,
     "metadata": {},
     "output_type": "execute_result"
    }
   ],
   "source": [
    "pl_at['player_api_id'].nunique()"
   ]
  },
  {
   "cell_type": "markdown",
   "metadata": {},
   "source": [
    "### Checking for null values in both the columns."
   ]
  },
  {
   "cell_type": "code",
   "execution_count": 20,
   "metadata": {},
   "outputs": [
    {
     "data": {
      "text/plain": [
       "False"
      ]
     },
     "execution_count": 20,
     "metadata": {},
     "output_type": "execute_result"
    }
   ],
   "source": [
    "pl_at['player_fifa_api_id'].isnull().any()"
   ]
  },
  {
   "cell_type": "code",
   "execution_count": 21,
   "metadata": {},
   "outputs": [
    {
     "data": {
      "text/plain": [
       "False"
      ]
     },
     "execution_count": 21,
     "metadata": {},
     "output_type": "execute_result"
    }
   ],
   "source": [
    "pl_at['player_api_id'].isnull().any()"
   ]
  },
  {
   "cell_type": "code",
   "execution_count": 22,
   "metadata": {},
   "outputs": [
    {
     "name": "stdout",
     "output_type": "stream",
     "text": [
      "(183978, 2)\n"
     ]
    }
   ],
   "source": [
    "new_pl = pl_at[['player_fifa_api_id','player_api_id']]\n",
    "print(new_pl.shape)"
   ]
  },
  {
   "cell_type": "markdown",
   "metadata": {},
   "source": [
    "### Dropping the duplicates in the dataframe."
   ]
  },
  {
   "cell_type": "code",
   "execution_count": 23,
   "metadata": {},
   "outputs": [
    {
     "name": "stdout",
     "output_type": "stream",
     "text": [
      "(11069, 2)\n"
     ]
    },
    {
     "name": "stderr",
     "output_type": "stream",
     "text": [
      "c:\\users\\91909\\appdata\\local\\programs\\python\\python36\\lib\\site-packages\\ipykernel_launcher.py:1: SettingWithCopyWarning: \n",
      "A value is trying to be set on a copy of a slice from a DataFrame\n",
      "\n",
      "See the caveats in the documentation: http://pandas.pydata.org/pandas-docs/stable/indexing.html#indexing-view-versus-copy\n",
      "  \"\"\"Entry point for launching an IPython kernel.\n"
     ]
    }
   ],
   "source": [
    "new_pl.drop_duplicates(keep='first', inplace=True)\n",
    "print(new_pl.shape)"
   ]
  },
  {
   "cell_type": "code",
   "execution_count": 24,
   "metadata": {},
   "outputs": [
    {
     "data": {
      "text/plain": [
       "11062"
      ]
     },
     "execution_count": 24,
     "metadata": {},
     "output_type": "execute_result"
    }
   ],
   "source": [
    "new_pl['player_fifa_api_id'].nunique()"
   ]
  },
  {
   "cell_type": "markdown",
   "metadata": {},
   "source": [
    "### Yes player_fifa_api_id has 11062 values and player_api_id has 11060 values.The reason behind this must be the fact that a single player_api_id contains multiple values of the same player_fifa_api_id. "
   ]
  },
  {
   "cell_type": "code",
   "execution_count": 25,
   "metadata": {},
   "outputs": [
    {
     "name": "stdout",
     "output_type": "stream",
     "text": [
      "<class 'pandas.core.frame.DataFrame'>\n",
      "RangeIndex: 11060 entries, 0 to 11059\n",
      "Data columns (total 2 columns):\n",
      "player_api_id    11060 non-null int64\n",
      "counts           11060 non-null int64\n",
      "dtypes: int64(2)\n",
      "memory usage: 172.9 KB\n"
     ]
    }
   ],
   "source": [
    "new_pl_1=new_pl.groupby('player_api_id').size().reset_index(name='counts')\n",
    "new_pl_1.info()   "
   ]
  },
  {
   "cell_type": "code",
   "execution_count": 26,
   "metadata": {},
   "outputs": [
    {
     "data": {
      "text/html": [
       "<div>\n",
       "<style scoped>\n",
       "    .dataframe tbody tr th:only-of-type {\n",
       "        vertical-align: middle;\n",
       "    }\n",
       "\n",
       "    .dataframe tbody tr th {\n",
       "        vertical-align: top;\n",
       "    }\n",
       "\n",
       "    .dataframe thead th {\n",
       "        text-align: right;\n",
       "    }\n",
       "</style>\n",
       "<table border=\"1\" class=\"dataframe\">\n",
       "  <thead>\n",
       "    <tr style=\"text-align: right;\">\n",
       "      <th></th>\n",
       "      <th>player_api_id</th>\n",
       "      <th>counts</th>\n",
       "    </tr>\n",
       "  </thead>\n",
       "  <tbody>\n",
       "    <tr>\n",
       "      <th>0</th>\n",
       "      <td>2625</td>\n",
       "      <td>1</td>\n",
       "    </tr>\n",
       "    <tr>\n",
       "      <th>1</th>\n",
       "      <td>2752</td>\n",
       "      <td>1</td>\n",
       "    </tr>\n",
       "    <tr>\n",
       "      <th>2</th>\n",
       "      <td>2768</td>\n",
       "      <td>1</td>\n",
       "    </tr>\n",
       "    <tr>\n",
       "      <th>3</th>\n",
       "      <td>2770</td>\n",
       "      <td>1</td>\n",
       "    </tr>\n",
       "    <tr>\n",
       "      <th>4</th>\n",
       "      <td>2790</td>\n",
       "      <td>1</td>\n",
       "    </tr>\n",
       "  </tbody>\n",
       "</table>\n",
       "</div>"
      ],
      "text/plain": [
       "   player_api_id  counts\n",
       "0           2625       1\n",
       "1           2752       1\n",
       "2           2768       1\n",
       "3           2770       1\n",
       "4           2790       1"
      ]
     },
     "execution_count": 26,
     "metadata": {},
     "output_type": "execute_result"
    }
   ],
   "source": [
    "new_pl_1.head()"
   ]
  },
  {
   "cell_type": "code",
   "execution_count": 27,
   "metadata": {},
   "outputs": [],
   "source": [
    "new_pl_2 =new_pl_1[new_pl_1['counts']>1]"
   ]
  },
  {
   "cell_type": "code",
   "execution_count": 28,
   "metadata": {},
   "outputs": [
    {
     "name": "stdout",
     "output_type": "stream",
     "text": [
      "<class 'pandas.core.frame.DataFrame'>\n",
      "Int64Index: 9 entries, 121 to 7887\n",
      "Data columns (total 2 columns):\n",
      "player_api_id    9 non-null int64\n",
      "counts           9 non-null int64\n",
      "dtypes: int64(2)\n",
      "memory usage: 216.0 bytes\n"
     ]
    }
   ],
   "source": [
    "new_pl_2.info()"
   ]
  },
  {
   "cell_type": "code",
   "execution_count": 29,
   "metadata": {},
   "outputs": [],
   "source": [
    "output = pd.DataFrame(columns=['player_api_id','player_fifa_api_id'])"
   ]
  },
  {
   "cell_type": "code",
   "execution_count": 30,
   "metadata": {},
   "outputs": [],
   "source": [
    "for x in range(len(new_pl['player_api_id'])):\n",
    "    if new_pl.iloc[x,1] in list(new_pl_2['player_api_id']):\n",
    "        output.loc[len(output)] =[new_pl.iloc[x,1],new_pl.iloc[x,0]]"
   ]
  },
  {
   "cell_type": "markdown",
   "metadata": {},
   "source": [
    "## Output contains the required combination where \"player_api_id\" had multiple matches of \"player_fifa_api_id\"."
   ]
  },
  {
   "cell_type": "code",
   "execution_count": 31,
   "metadata": {},
   "outputs": [
    {
     "name": "stdout",
     "output_type": "stream",
     "text": [
      "   player_api_id player_fifa_api_id\n",
      "0         150396             186613\n",
      "1         150396             192635\n",
      "2         163838             198033\n",
      "3         163838             198394\n",
      "4          32968              51384\n",
      "5          32968             118359\n",
      "6          11285             202486\n",
      "7          11285             208618\n",
      "8          37254             177485\n",
      "9          37254             190195\n",
      "10        110189             148581\n",
      "11        110189             200529\n",
      "12        193866             148337\n",
      "13        193866             197937\n",
      "14         42116             158428\n",
      "15         42116             184431\n",
      "16         30271             135804\n",
      "17         30271             206652\n"
     ]
    }
   ],
   "source": [
    "print(output)"
   ]
  },
  {
   "cell_type": "markdown",
   "metadata": {},
   "source": [
    "### The no. of id combinations where “player_api_id” has multiple matches of “player_fifa_api_id” is 18."
   ]
  }
 ],
 "metadata": {
  "kernelspec": {
   "display_name": "Python 3",
   "language": "python",
   "name": "python3"
  },
  "language_info": {
   "codemirror_mode": {
    "name": "ipython",
    "version": 3
   },
   "file_extension": ".py",
   "mimetype": "text/x-python",
   "name": "python",
   "nbconvert_exporter": "python",
   "pygments_lexer": "ipython3",
   "version": "3.6.0"
  }
 },
 "nbformat": 4,
 "nbformat_minor": 2
}
